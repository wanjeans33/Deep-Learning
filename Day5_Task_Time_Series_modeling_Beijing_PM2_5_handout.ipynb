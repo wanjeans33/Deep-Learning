{
  "cells": [
    {
      "cell_type": "markdown",
      "metadata": {
        "id": "view-in-github",
        "colab_type": "text"
      },
      "source": [
        "<a href=\"https://colab.research.google.com/github/wanjeans33/Deep-Learning/blob/main/Day5_Task_Time_Series_modeling_Beijing_PM2_5_handout.ipynb\" target=\"_parent\"><img src=\"https://colab.research.google.com/assets/colab-badge.svg\" alt=\"Open In Colab\"/></a>"
      ]
    },
    {
      "cell_type": "markdown",
      "metadata": {
        "id": "_V0-OBPTGMff"
      },
      "source": [
        "# Modeling air pollution\n",
        "\n",
        "Let us try to predict Beijing's air pollution, especially [PM2.5](https://en.wikipedia.org/wiki/Particulates) values in advance!\n",
        "\n",
        "\n",
        "Inspiration comes from [here](https://machinelearningmastery.com/multivariate-time-series-forecasting-lstms-keras/).\n",
        "\n",
        "## Dataset\n",
        "\n",
        "[Beijing PM2.5 Data Data Set](https://archive.ics.uci.edu/ml/datasets/Beijing+PM2.5+Data)\n",
        "\n",
        "### Columns of the dataset:\n",
        "\n",
        "**No:** row number\n",
        "\n",
        "**year:** year of data in this row\n",
        "\n",
        "**month:** month of data in this row\n",
        "\n",
        "**day:** day of data in this row\n",
        "\n",
        "**hour:** hour of data in this row\n",
        "\n",
        "**pm2.5:** PM2.5 concentration\n",
        "\n",
        "**DEWP:** Dew Point\n",
        "\n",
        "**TEMP:** Temperature\n",
        "\n",
        "**PRES:** Pressure\n",
        "\n",
        "**cbwd:** Combined wind direction\n",
        "\n",
        "**Iws:** Cumulated wind speed\n",
        "\n",
        "**Is:** Cumulated hours of snow\n",
        "\n",
        "**Ir:** Cumulated hours of rain"
      ]
    },
    {
      "cell_type": "code",
      "execution_count": 1,
      "metadata": {
        "ExecuteTime": {
          "end_time": "2019-05-02T15:24:58.995243Z",
          "start_time": "2019-05-02T15:24:58.033983Z"
        },
        "collapsed": true,
        "id": "xYk6nJEZGMfh",
        "colab": {
          "base_uri": "https://localhost:8080/"
        },
        "outputId": "1fd5d3d7-7b89-43c4-db1e-965bc7e7e852"
      },
      "outputs": [
        {
          "output_type": "stream",
          "name": "stdout",
          "text": [
            "--2024-09-21 18:14:05--  https://raw.githubusercontent.com/jbrownlee/Datasets/master/pollution.csv\n",
            "Resolving raw.githubusercontent.com (raw.githubusercontent.com)... 185.199.108.133, 185.199.109.133, 185.199.110.133, ...\n",
            "Connecting to raw.githubusercontent.com (raw.githubusercontent.com)|185.199.108.133|:443... connected.\n",
            "HTTP request sent, awaiting response... 200 OK\n",
            "Length: 2010492 (1.9M) [text/plain]\n",
            "Saving to: ‘pollution.csv’\n",
            "\n",
            "pollution.csv       100%[===================>]   1.92M  --.-KB/s    in 0.02s   \n",
            "\n",
            "2024-09-21 18:14:05 (120 MB/s) - ‘pollution.csv’ saved [2010492/2010492]\n",
            "\n"
          ]
        }
      ],
      "source": [
        "!wget https://raw.githubusercontent.com/jbrownlee/Datasets/master/pollution.csv"
      ]
    },
    {
      "cell_type": "code",
      "execution_count": 2,
      "metadata": {
        "ExecuteTime": {
          "end_time": "2019-05-02T15:25:00.287408Z",
          "start_time": "2019-05-02T15:24:59.003580Z"
        },
        "collapsed": true,
        "id": "jy8m0GchGMfi",
        "colab": {
          "base_uri": "https://localhost:8080/"
        },
        "outputId": "67ab8f79-b34d-44c8-ed8b-e98a9edd3dbd"
      },
      "outputs": [
        {
          "output_type": "stream",
          "name": "stdout",
          "text": [
            "Collecting seglearn\n",
            "  Downloading seglearn-1.2.5-py3-none-any.whl.metadata (5.6 kB)\n",
            "Requirement already satisfied: numpy in /usr/local/lib/python3.10/dist-packages (from seglearn) (1.26.4)\n",
            "Requirement already satisfied: scipy in /usr/local/lib/python3.10/dist-packages (from seglearn) (1.13.1)\n",
            "Requirement already satisfied: scikit-learn>=0.21.3 in /usr/local/lib/python3.10/dist-packages (from seglearn) (1.3.2)\n",
            "Requirement already satisfied: joblib>=1.1.1 in /usr/local/lib/python3.10/dist-packages (from scikit-learn>=0.21.3->seglearn) (1.4.2)\n",
            "Requirement already satisfied: threadpoolctl>=2.0.0 in /usr/local/lib/python3.10/dist-packages (from scikit-learn>=0.21.3->seglearn) (3.5.0)\n",
            "Downloading seglearn-1.2.5-py3-none-any.whl (11.3 MB)\n",
            "\u001b[2K   \u001b[90m━━━━━━━━━━━━━━━━━━━━━━━━━━━━━━━━━━━━━━━━\u001b[0m \u001b[32m11.3/11.3 MB\u001b[0m \u001b[31m34.0 MB/s\u001b[0m eta \u001b[36m0:00:00\u001b[0m\n",
            "\u001b[?25hInstalling collected packages: seglearn\n",
            "Successfully installed seglearn-1.2.5\n"
          ]
        }
      ],
      "source": [
        "!pip install seglearn"
      ]
    },
    {
      "cell_type": "code",
      "execution_count": 3,
      "metadata": {
        "ExecuteTime": {
          "end_time": "2019-05-02T15:25:00.659548Z",
          "start_time": "2019-05-02T15:25:00.294723Z"
        },
        "collapsed": true,
        "id": "a8xkC9GIGMfi"
      },
      "outputs": [],
      "source": [
        "import pandas as pd\n",
        "import csv\n",
        "import numpy as np\n",
        "import matplotlib.pyplot as plt\n",
        "\n",
        "#import warnings\n",
        "#warnings.filterwarnings(\"ignore\")\n"
      ]
    },
    {
      "cell_type": "code",
      "execution_count": 4,
      "metadata": {
        "ExecuteTime": {
          "end_time": "2019-05-02T15:25:00.665793Z",
          "start_time": "2019-05-02T15:25:00.661169Z"
        },
        "collapsed": true,
        "id": "fntTwts7GMfi"
      },
      "outputs": [],
      "source": [
        "def sniff_format(location):\n",
        "    with open(location, newline='') as csvfile:\n",
        "        sniffer = csv.Sniffer()\n",
        "        sample = csvfile.read(1024)\n",
        "        dialect = sniffer.sniff(sample)\n",
        "        header = sniffer.has_header(sample)\n",
        "        if header:\n",
        "            header=0\n",
        "        else:\n",
        "            header=None\n",
        "\n",
        "    return {\"dialect\":dialect, \"header\":header}\n",
        "\n",
        "def describe_full(df):\n",
        "    #pd.options.display.float_format = '{:.2f}'.format\n",
        "    dtypes_description=pd.DataFrame(dict(df.dtypes),[\"dtypes\"])\n",
        "    na_description = pd.DataFrame(dict(df.isna().sum()),[\"NA-s\"])\n",
        "    na_percent = ((pd.DataFrame(dict(df.isna().sum()),[\"NA%\"])/len(df))*100).round(decimals=2)\n",
        "    description = df.describe(include='all')\n",
        "    full_description = pd.concat([dtypes_description, na_description, na_percent, description]).replace(np.nan, '', regex=True)\n",
        "\n",
        "    return full_description"
      ]
    },
    {
      "cell_type": "code",
      "execution_count": 5,
      "metadata": {
        "ExecuteTime": {
          "end_time": "2019-05-02T15:25:00.835900Z",
          "start_time": "2019-05-02T15:25:00.667466Z"
        },
        "collapsed": true,
        "id": "TyCcHmUYGMfi",
        "colab": {
          "base_uri": "https://localhost:8080/",
          "height": 508
        },
        "outputId": "4ab7ac30-a7af-435a-bef1-2d6ade2d946a"
      },
      "outputs": [
        {
          "output_type": "execute_result",
          "data": {
            "text/plain": [
              "                  No      year     month       day      hour      pm2.5  \\\n",
              "dtypes         int64     int64     int64     int64     int64    float64   \n",
              "NA-s               0         0         0         0         0       2067   \n",
              "NA%              0.0       0.0       0.0       0.0       0.0       4.72   \n",
              "count        43824.0   43824.0   43824.0   43824.0   43824.0    41757.0   \n",
              "unique                                                                    \n",
              "top                                                                       \n",
              "freq                                                                      \n",
              "mean         21912.5    2012.0  6.523549  15.72782      11.5  98.613215   \n",
              "std     12651.043435  1.413842  3.448572  8.799425  6.922266  92.050387   \n",
              "min              1.0    2010.0       1.0       1.0       0.0        0.0   \n",
              "25%         10956.75    2011.0       4.0       8.0      5.75       29.0   \n",
              "50%          21912.5    2012.0       7.0      16.0      11.5       72.0   \n",
              "75%         32868.25    2013.0      10.0      23.0     17.25      137.0   \n",
              "max          43824.0    2014.0      12.0      31.0      23.0      994.0   \n",
              "\n",
              "            DEWP       TEMP         PRES    cbwd        Iws        Is  \\\n",
              "dtypes     int64    float64      float64  object    float64     int64   \n",
              "NA-s           0          0            0       0          0         0   \n",
              "NA%          0.0        0.0          0.0     0.0        0.0       0.0   \n",
              "count    43824.0    43824.0      43824.0   43824    43824.0   43824.0   \n",
              "unique                                         4                        \n",
              "top                                           SE                        \n",
              "freq                                       15290                        \n",
              "mean    1.817246  12.448521  1016.447654           23.88914  0.052734   \n",
              "std     14.43344  12.198613    10.268698          50.010635  0.760375   \n",
              "min        -40.0      -19.0        991.0               0.45       0.0   \n",
              "25%        -10.0        2.0       1008.0               1.79       0.0   \n",
              "50%          2.0       14.0       1016.0               5.37       0.0   \n",
              "75%         15.0       23.0       1025.0              21.91       0.0   \n",
              "max         28.0       42.0       1046.0              585.6      27.0   \n",
              "\n",
              "              Ir  \n",
              "dtypes     int64  \n",
              "NA-s           0  \n",
              "NA%          0.0  \n",
              "count    43824.0  \n",
              "unique            \n",
              "top               \n",
              "freq              \n",
              "mean    0.194916  \n",
              "std     1.415867  \n",
              "min          0.0  \n",
              "25%          0.0  \n",
              "50%          0.0  \n",
              "75%          0.0  \n",
              "max         36.0  "
            ],
            "text/html": [
              "\n",
              "  <div id=\"df-cba398b2-a16f-4f9f-9106-98cdd7a79558\" class=\"colab-df-container\">\n",
              "    <div>\n",
              "<style scoped>\n",
              "    .dataframe tbody tr th:only-of-type {\n",
              "        vertical-align: middle;\n",
              "    }\n",
              "\n",
              "    .dataframe tbody tr th {\n",
              "        vertical-align: top;\n",
              "    }\n",
              "\n",
              "    .dataframe thead th {\n",
              "        text-align: right;\n",
              "    }\n",
              "</style>\n",
              "<table border=\"1\" class=\"dataframe\">\n",
              "  <thead>\n",
              "    <tr style=\"text-align: right;\">\n",
              "      <th></th>\n",
              "      <th>No</th>\n",
              "      <th>year</th>\n",
              "      <th>month</th>\n",
              "      <th>day</th>\n",
              "      <th>hour</th>\n",
              "      <th>pm2.5</th>\n",
              "      <th>DEWP</th>\n",
              "      <th>TEMP</th>\n",
              "      <th>PRES</th>\n",
              "      <th>cbwd</th>\n",
              "      <th>Iws</th>\n",
              "      <th>Is</th>\n",
              "      <th>Ir</th>\n",
              "    </tr>\n",
              "  </thead>\n",
              "  <tbody>\n",
              "    <tr>\n",
              "      <th>dtypes</th>\n",
              "      <td>int64</td>\n",
              "      <td>int64</td>\n",
              "      <td>int64</td>\n",
              "      <td>int64</td>\n",
              "      <td>int64</td>\n",
              "      <td>float64</td>\n",
              "      <td>int64</td>\n",
              "      <td>float64</td>\n",
              "      <td>float64</td>\n",
              "      <td>object</td>\n",
              "      <td>float64</td>\n",
              "      <td>int64</td>\n",
              "      <td>int64</td>\n",
              "    </tr>\n",
              "    <tr>\n",
              "      <th>NA-s</th>\n",
              "      <td>0</td>\n",
              "      <td>0</td>\n",
              "      <td>0</td>\n",
              "      <td>0</td>\n",
              "      <td>0</td>\n",
              "      <td>2067</td>\n",
              "      <td>0</td>\n",
              "      <td>0</td>\n",
              "      <td>0</td>\n",
              "      <td>0</td>\n",
              "      <td>0</td>\n",
              "      <td>0</td>\n",
              "      <td>0</td>\n",
              "    </tr>\n",
              "    <tr>\n",
              "      <th>NA%</th>\n",
              "      <td>0.0</td>\n",
              "      <td>0.0</td>\n",
              "      <td>0.0</td>\n",
              "      <td>0.0</td>\n",
              "      <td>0.0</td>\n",
              "      <td>4.72</td>\n",
              "      <td>0.0</td>\n",
              "      <td>0.0</td>\n",
              "      <td>0.0</td>\n",
              "      <td>0.0</td>\n",
              "      <td>0.0</td>\n",
              "      <td>0.0</td>\n",
              "      <td>0.0</td>\n",
              "    </tr>\n",
              "    <tr>\n",
              "      <th>count</th>\n",
              "      <td>43824.0</td>\n",
              "      <td>43824.0</td>\n",
              "      <td>43824.0</td>\n",
              "      <td>43824.0</td>\n",
              "      <td>43824.0</td>\n",
              "      <td>41757.0</td>\n",
              "      <td>43824.0</td>\n",
              "      <td>43824.0</td>\n",
              "      <td>43824.0</td>\n",
              "      <td>43824</td>\n",
              "      <td>43824.0</td>\n",
              "      <td>43824.0</td>\n",
              "      <td>43824.0</td>\n",
              "    </tr>\n",
              "    <tr>\n",
              "      <th>unique</th>\n",
              "      <td></td>\n",
              "      <td></td>\n",
              "      <td></td>\n",
              "      <td></td>\n",
              "      <td></td>\n",
              "      <td></td>\n",
              "      <td></td>\n",
              "      <td></td>\n",
              "      <td></td>\n",
              "      <td>4</td>\n",
              "      <td></td>\n",
              "      <td></td>\n",
              "      <td></td>\n",
              "    </tr>\n",
              "    <tr>\n",
              "      <th>top</th>\n",
              "      <td></td>\n",
              "      <td></td>\n",
              "      <td></td>\n",
              "      <td></td>\n",
              "      <td></td>\n",
              "      <td></td>\n",
              "      <td></td>\n",
              "      <td></td>\n",
              "      <td></td>\n",
              "      <td>SE</td>\n",
              "      <td></td>\n",
              "      <td></td>\n",
              "      <td></td>\n",
              "    </tr>\n",
              "    <tr>\n",
              "      <th>freq</th>\n",
              "      <td></td>\n",
              "      <td></td>\n",
              "      <td></td>\n",
              "      <td></td>\n",
              "      <td></td>\n",
              "      <td></td>\n",
              "      <td></td>\n",
              "      <td></td>\n",
              "      <td></td>\n",
              "      <td>15290</td>\n",
              "      <td></td>\n",
              "      <td></td>\n",
              "      <td></td>\n",
              "    </tr>\n",
              "    <tr>\n",
              "      <th>mean</th>\n",
              "      <td>21912.5</td>\n",
              "      <td>2012.0</td>\n",
              "      <td>6.523549</td>\n",
              "      <td>15.72782</td>\n",
              "      <td>11.5</td>\n",
              "      <td>98.613215</td>\n",
              "      <td>1.817246</td>\n",
              "      <td>12.448521</td>\n",
              "      <td>1016.447654</td>\n",
              "      <td></td>\n",
              "      <td>23.88914</td>\n",
              "      <td>0.052734</td>\n",
              "      <td>0.194916</td>\n",
              "    </tr>\n",
              "    <tr>\n",
              "      <th>std</th>\n",
              "      <td>12651.043435</td>\n",
              "      <td>1.413842</td>\n",
              "      <td>3.448572</td>\n",
              "      <td>8.799425</td>\n",
              "      <td>6.922266</td>\n",
              "      <td>92.050387</td>\n",
              "      <td>14.43344</td>\n",
              "      <td>12.198613</td>\n",
              "      <td>10.268698</td>\n",
              "      <td></td>\n",
              "      <td>50.010635</td>\n",
              "      <td>0.760375</td>\n",
              "      <td>1.415867</td>\n",
              "    </tr>\n",
              "    <tr>\n",
              "      <th>min</th>\n",
              "      <td>1.0</td>\n",
              "      <td>2010.0</td>\n",
              "      <td>1.0</td>\n",
              "      <td>1.0</td>\n",
              "      <td>0.0</td>\n",
              "      <td>0.0</td>\n",
              "      <td>-40.0</td>\n",
              "      <td>-19.0</td>\n",
              "      <td>991.0</td>\n",
              "      <td></td>\n",
              "      <td>0.45</td>\n",
              "      <td>0.0</td>\n",
              "      <td>0.0</td>\n",
              "    </tr>\n",
              "    <tr>\n",
              "      <th>25%</th>\n",
              "      <td>10956.75</td>\n",
              "      <td>2011.0</td>\n",
              "      <td>4.0</td>\n",
              "      <td>8.0</td>\n",
              "      <td>5.75</td>\n",
              "      <td>29.0</td>\n",
              "      <td>-10.0</td>\n",
              "      <td>2.0</td>\n",
              "      <td>1008.0</td>\n",
              "      <td></td>\n",
              "      <td>1.79</td>\n",
              "      <td>0.0</td>\n",
              "      <td>0.0</td>\n",
              "    </tr>\n",
              "    <tr>\n",
              "      <th>50%</th>\n",
              "      <td>21912.5</td>\n",
              "      <td>2012.0</td>\n",
              "      <td>7.0</td>\n",
              "      <td>16.0</td>\n",
              "      <td>11.5</td>\n",
              "      <td>72.0</td>\n",
              "      <td>2.0</td>\n",
              "      <td>14.0</td>\n",
              "      <td>1016.0</td>\n",
              "      <td></td>\n",
              "      <td>5.37</td>\n",
              "      <td>0.0</td>\n",
              "      <td>0.0</td>\n",
              "    </tr>\n",
              "    <tr>\n",
              "      <th>75%</th>\n",
              "      <td>32868.25</td>\n",
              "      <td>2013.0</td>\n",
              "      <td>10.0</td>\n",
              "      <td>23.0</td>\n",
              "      <td>17.25</td>\n",
              "      <td>137.0</td>\n",
              "      <td>15.0</td>\n",
              "      <td>23.0</td>\n",
              "      <td>1025.0</td>\n",
              "      <td></td>\n",
              "      <td>21.91</td>\n",
              "      <td>0.0</td>\n",
              "      <td>0.0</td>\n",
              "    </tr>\n",
              "    <tr>\n",
              "      <th>max</th>\n",
              "      <td>43824.0</td>\n",
              "      <td>2014.0</td>\n",
              "      <td>12.0</td>\n",
              "      <td>31.0</td>\n",
              "      <td>23.0</td>\n",
              "      <td>994.0</td>\n",
              "      <td>28.0</td>\n",
              "      <td>42.0</td>\n",
              "      <td>1046.0</td>\n",
              "      <td></td>\n",
              "      <td>585.6</td>\n",
              "      <td>27.0</td>\n",
              "      <td>36.0</td>\n",
              "    </tr>\n",
              "  </tbody>\n",
              "</table>\n",
              "</div>\n",
              "    <div class=\"colab-df-buttons\">\n",
              "\n",
              "  <div class=\"colab-df-container\">\n",
              "    <button class=\"colab-df-convert\" onclick=\"convertToInteractive('df-cba398b2-a16f-4f9f-9106-98cdd7a79558')\"\n",
              "            title=\"Convert this dataframe to an interactive table.\"\n",
              "            style=\"display:none;\">\n",
              "\n",
              "  <svg xmlns=\"http://www.w3.org/2000/svg\" height=\"24px\" viewBox=\"0 -960 960 960\">\n",
              "    <path d=\"M120-120v-720h720v720H120Zm60-500h600v-160H180v160Zm220 220h160v-160H400v160Zm0 220h160v-160H400v160ZM180-400h160v-160H180v160Zm440 0h160v-160H620v160ZM180-180h160v-160H180v160Zm440 0h160v-160H620v160Z\"/>\n",
              "  </svg>\n",
              "    </button>\n",
              "\n",
              "  <style>\n",
              "    .colab-df-container {\n",
              "      display:flex;\n",
              "      gap: 12px;\n",
              "    }\n",
              "\n",
              "    .colab-df-convert {\n",
              "      background-color: #E8F0FE;\n",
              "      border: none;\n",
              "      border-radius: 50%;\n",
              "      cursor: pointer;\n",
              "      display: none;\n",
              "      fill: #1967D2;\n",
              "      height: 32px;\n",
              "      padding: 0 0 0 0;\n",
              "      width: 32px;\n",
              "    }\n",
              "\n",
              "    .colab-df-convert:hover {\n",
              "      background-color: #E2EBFA;\n",
              "      box-shadow: 0px 1px 2px rgba(60, 64, 67, 0.3), 0px 1px 3px 1px rgba(60, 64, 67, 0.15);\n",
              "      fill: #174EA6;\n",
              "    }\n",
              "\n",
              "    .colab-df-buttons div {\n",
              "      margin-bottom: 4px;\n",
              "    }\n",
              "\n",
              "    [theme=dark] .colab-df-convert {\n",
              "      background-color: #3B4455;\n",
              "      fill: #D2E3FC;\n",
              "    }\n",
              "\n",
              "    [theme=dark] .colab-df-convert:hover {\n",
              "      background-color: #434B5C;\n",
              "      box-shadow: 0px 1px 3px 1px rgba(0, 0, 0, 0.15);\n",
              "      filter: drop-shadow(0px 1px 2px rgba(0, 0, 0, 0.3));\n",
              "      fill: #FFFFFF;\n",
              "    }\n",
              "  </style>\n",
              "\n",
              "    <script>\n",
              "      const buttonEl =\n",
              "        document.querySelector('#df-cba398b2-a16f-4f9f-9106-98cdd7a79558 button.colab-df-convert');\n",
              "      buttonEl.style.display =\n",
              "        google.colab.kernel.accessAllowed ? 'block' : 'none';\n",
              "\n",
              "      async function convertToInteractive(key) {\n",
              "        const element = document.querySelector('#df-cba398b2-a16f-4f9f-9106-98cdd7a79558');\n",
              "        const dataTable =\n",
              "          await google.colab.kernel.invokeFunction('convertToInteractive',\n",
              "                                                    [key], {});\n",
              "        if (!dataTable) return;\n",
              "\n",
              "        const docLinkHtml = 'Like what you see? Visit the ' +\n",
              "          '<a target=\"_blank\" href=https://colab.research.google.com/notebooks/data_table.ipynb>data table notebook</a>'\n",
              "          + ' to learn more about interactive tables.';\n",
              "        element.innerHTML = '';\n",
              "        dataTable['output_type'] = 'display_data';\n",
              "        await google.colab.output.renderOutput(dataTable, element);\n",
              "        const docLink = document.createElement('div');\n",
              "        docLink.innerHTML = docLinkHtml;\n",
              "        element.appendChild(docLink);\n",
              "      }\n",
              "    </script>\n",
              "  </div>\n",
              "\n",
              "\n",
              "<div id=\"df-2431cdb1-522d-4fe5-bdaf-afc13a0cead0\">\n",
              "  <button class=\"colab-df-quickchart\" onclick=\"quickchart('df-2431cdb1-522d-4fe5-bdaf-afc13a0cead0')\"\n",
              "            title=\"Suggest charts\"\n",
              "            style=\"display:none;\">\n",
              "\n",
              "<svg xmlns=\"http://www.w3.org/2000/svg\" height=\"24px\"viewBox=\"0 0 24 24\"\n",
              "     width=\"24px\">\n",
              "    <g>\n",
              "        <path d=\"M19 3H5c-1.1 0-2 .9-2 2v14c0 1.1.9 2 2 2h14c1.1 0 2-.9 2-2V5c0-1.1-.9-2-2-2zM9 17H7v-7h2v7zm4 0h-2V7h2v10zm4 0h-2v-4h2v4z\"/>\n",
              "    </g>\n",
              "</svg>\n",
              "  </button>\n",
              "\n",
              "<style>\n",
              "  .colab-df-quickchart {\n",
              "      --bg-color: #E8F0FE;\n",
              "      --fill-color: #1967D2;\n",
              "      --hover-bg-color: #E2EBFA;\n",
              "      --hover-fill-color: #174EA6;\n",
              "      --disabled-fill-color: #AAA;\n",
              "      --disabled-bg-color: #DDD;\n",
              "  }\n",
              "\n",
              "  [theme=dark] .colab-df-quickchart {\n",
              "      --bg-color: #3B4455;\n",
              "      --fill-color: #D2E3FC;\n",
              "      --hover-bg-color: #434B5C;\n",
              "      --hover-fill-color: #FFFFFF;\n",
              "      --disabled-bg-color: #3B4455;\n",
              "      --disabled-fill-color: #666;\n",
              "  }\n",
              "\n",
              "  .colab-df-quickchart {\n",
              "    background-color: var(--bg-color);\n",
              "    border: none;\n",
              "    border-radius: 50%;\n",
              "    cursor: pointer;\n",
              "    display: none;\n",
              "    fill: var(--fill-color);\n",
              "    height: 32px;\n",
              "    padding: 0;\n",
              "    width: 32px;\n",
              "  }\n",
              "\n",
              "  .colab-df-quickchart:hover {\n",
              "    background-color: var(--hover-bg-color);\n",
              "    box-shadow: 0 1px 2px rgba(60, 64, 67, 0.3), 0 1px 3px 1px rgba(60, 64, 67, 0.15);\n",
              "    fill: var(--button-hover-fill-color);\n",
              "  }\n",
              "\n",
              "  .colab-df-quickchart-complete:disabled,\n",
              "  .colab-df-quickchart-complete:disabled:hover {\n",
              "    background-color: var(--disabled-bg-color);\n",
              "    fill: var(--disabled-fill-color);\n",
              "    box-shadow: none;\n",
              "  }\n",
              "\n",
              "  .colab-df-spinner {\n",
              "    border: 2px solid var(--fill-color);\n",
              "    border-color: transparent;\n",
              "    border-bottom-color: var(--fill-color);\n",
              "    animation:\n",
              "      spin 1s steps(1) infinite;\n",
              "  }\n",
              "\n",
              "  @keyframes spin {\n",
              "    0% {\n",
              "      border-color: transparent;\n",
              "      border-bottom-color: var(--fill-color);\n",
              "      border-left-color: var(--fill-color);\n",
              "    }\n",
              "    20% {\n",
              "      border-color: transparent;\n",
              "      border-left-color: var(--fill-color);\n",
              "      border-top-color: var(--fill-color);\n",
              "    }\n",
              "    30% {\n",
              "      border-color: transparent;\n",
              "      border-left-color: var(--fill-color);\n",
              "      border-top-color: var(--fill-color);\n",
              "      border-right-color: var(--fill-color);\n",
              "    }\n",
              "    40% {\n",
              "      border-color: transparent;\n",
              "      border-right-color: var(--fill-color);\n",
              "      border-top-color: var(--fill-color);\n",
              "    }\n",
              "    60% {\n",
              "      border-color: transparent;\n",
              "      border-right-color: var(--fill-color);\n",
              "    }\n",
              "    80% {\n",
              "      border-color: transparent;\n",
              "      border-right-color: var(--fill-color);\n",
              "      border-bottom-color: var(--fill-color);\n",
              "    }\n",
              "    90% {\n",
              "      border-color: transparent;\n",
              "      border-bottom-color: var(--fill-color);\n",
              "    }\n",
              "  }\n",
              "</style>\n",
              "\n",
              "  <script>\n",
              "    async function quickchart(key) {\n",
              "      const quickchartButtonEl =\n",
              "        document.querySelector('#' + key + ' button');\n",
              "      quickchartButtonEl.disabled = true;  // To prevent multiple clicks.\n",
              "      quickchartButtonEl.classList.add('colab-df-spinner');\n",
              "      try {\n",
              "        const charts = await google.colab.kernel.invokeFunction(\n",
              "            'suggestCharts', [key], {});\n",
              "      } catch (error) {\n",
              "        console.error('Error during call to suggestCharts:', error);\n",
              "      }\n",
              "      quickchartButtonEl.classList.remove('colab-df-spinner');\n",
              "      quickchartButtonEl.classList.add('colab-df-quickchart-complete');\n",
              "    }\n",
              "    (() => {\n",
              "      let quickchartButtonEl =\n",
              "        document.querySelector('#df-2431cdb1-522d-4fe5-bdaf-afc13a0cead0 button');\n",
              "      quickchartButtonEl.style.display =\n",
              "        google.colab.kernel.accessAllowed ? 'block' : 'none';\n",
              "    })();\n",
              "  </script>\n",
              "</div>\n",
              "\n",
              "    </div>\n",
              "  </div>\n"
            ],
            "application/vnd.google.colaboratory.intrinsic+json": {
              "type": "dataframe",
              "summary": "{\n  \"name\": \"describe_full(df)\",\n  \"rows\": 14,\n  \"fields\": [\n    {\n      \"column\": \"No\",\n      \"properties\": {\n        \"dtype\": \"string\",\n        \"num_unique_values\": 9,\n        \"samples\": [\n          10956.75,\n          0,\n          12651.043435226993\n        ],\n        \"semantic_type\": \"\",\n        \"description\": \"\"\n      }\n    },\n    {\n      \"column\": \"year\",\n      \"properties\": {\n        \"dtype\": \"string\",\n        \"num_unique_values\": 10,\n        \"samples\": [\n          2013.0,\n          0,\n          1.413842396764861\n        ],\n        \"semantic_type\": \"\",\n        \"description\": \"\"\n      }\n    },\n    {\n      \"column\": \"month\",\n      \"properties\": {\n        \"dtype\": \"string\",\n        \"num_unique_values\": 11,\n        \"samples\": [\n          3.448572488398974,\n          \"int64\",\n          10.0\n        ],\n        \"semantic_type\": \"\",\n        \"description\": \"\"\n      }\n    },\n    {\n      \"column\": \"day\",\n      \"properties\": {\n        \"dtype\": \"string\",\n        \"num_unique_values\": 11,\n        \"samples\": [\n          8.799424735064967,\n          \"int64\",\n          23.0\n        ],\n        \"semantic_type\": \"\",\n        \"description\": \"\"\n      }\n    },\n    {\n      \"column\": \"hour\",\n      \"properties\": {\n        \"dtype\": \"string\",\n        \"num_unique_values\": 9,\n        \"samples\": [\n          17.25,\n          0,\n          6.922265530902663\n        ],\n        \"semantic_type\": \"\",\n        \"description\": \"\"\n      }\n    },\n    {\n      \"column\": \"pm2.5\",\n      \"properties\": {\n        \"dtype\": \"string\",\n        \"num_unique_values\": 12,\n        \"samples\": [\n          137.0,\n          72.0,\n          \"float64\"\n        ],\n        \"semantic_type\": \"\",\n        \"description\": \"\"\n      }\n    },\n    {\n      \"column\": \"DEWP\",\n      \"properties\": {\n        \"dtype\": \"string\",\n        \"num_unique_values\": 11,\n        \"samples\": [\n          14.433440266136342,\n          \"int64\",\n          15.0\n        ],\n        \"semantic_type\": \"\",\n        \"description\": \"\"\n      }\n    },\n    {\n      \"column\": \"TEMP\",\n      \"properties\": {\n        \"dtype\": \"string\",\n        \"num_unique_values\": 11,\n        \"samples\": [\n          12.198612789671555,\n          \"float64\",\n          23.0\n        ],\n        \"semantic_type\": \"\",\n        \"description\": \"\"\n      }\n    },\n    {\n      \"column\": \"PRES\",\n      \"properties\": {\n        \"dtype\": \"string\",\n        \"num_unique_values\": 11,\n        \"samples\": [\n          10.26869796157482,\n          \"float64\",\n          1025.0\n        ],\n        \"semantic_type\": \"\",\n        \"description\": \"\"\n      }\n    },\n    {\n      \"column\": \"cbwd\",\n      \"properties\": {\n        \"dtype\": \"string\",\n        \"num_unique_values\": 7,\n        \"samples\": [\n          \"object\",\n          0,\n          \"15290\"\n        ],\n        \"semantic_type\": \"\",\n        \"description\": \"\"\n      }\n    },\n    {\n      \"column\": \"Iws\",\n      \"properties\": {\n        \"dtype\": \"string\",\n        \"num_unique_values\": 11,\n        \"samples\": [\n          50.01063466523068,\n          \"float64\",\n          21.91\n        ],\n        \"semantic_type\": \"\",\n        \"description\": \"\"\n      }\n    },\n    {\n      \"column\": \"Is\",\n      \"properties\": {\n        \"dtype\": \"string\",\n        \"num_unique_values\": 7,\n        \"samples\": [\n          \"int64\",\n          0,\n          0.7603747364300459\n        ],\n        \"semantic_type\": \"\",\n        \"description\": \"\"\n      }\n    },\n    {\n      \"column\": \"Ir\",\n      \"properties\": {\n        \"dtype\": \"string\",\n        \"num_unique_values\": 7,\n        \"samples\": [\n          \"int64\",\n          0,\n          1.4158667068673554\n        ],\n        \"semantic_type\": \"\",\n        \"description\": \"\"\n      }\n    }\n  ]\n}"
            }
          },
          "metadata": {},
          "execution_count": 5
        }
      ],
      "source": [
        "csv_format = sniff_format(\"pollution.csv\")\n",
        "\n",
        "df = pd.read_csv(\"pollution.csv\",header=csv_format[\"header\"],dialect=csv_format[\"dialect\"])\n",
        "\n",
        "#There is a warning that would be worth investigationg, but for now, let's ignore it\n",
        "import warnings\n",
        "warnings.filterwarnings(\"ignore\")\n",
        "\n",
        "describe_full(df)"
      ]
    },
    {
      "cell_type": "code",
      "execution_count": 6,
      "metadata": {
        "ExecuteTime": {
          "end_time": "2019-05-02T15:25:00.845590Z",
          "start_time": "2019-05-02T15:25:00.837373Z"
        },
        "collapsed": true,
        "id": "z7eHNCQoGMfj"
      },
      "outputs": [],
      "source": [
        "#Safety assertions to ensure, that No is as it seems an index column sorted, series\n",
        "pd.testing.assert_series_equal(df.No,df.No.sort_values())\n",
        "np.testing.assert_array_equal((df.No-df.No[0]).values, np.arange(0,df.shape[0],1))\n",
        "#Don't really need these if we decide to go for date based indexing"
      ]
    },
    {
      "cell_type": "code",
      "execution_count": 7,
      "metadata": {
        "ExecuteTime": {
          "end_time": "2019-05-02T15:25:00.992198Z",
          "start_time": "2019-05-02T15:25:00.847885Z"
        },
        "collapsed": true,
        "id": "1mn8Ds31GMfj",
        "colab": {
          "base_uri": "https://localhost:8080/",
          "height": 394
        },
        "outputId": "2c15a50d-cc55-4013-e15a-def472087e49"
      },
      "outputs": [
        {
          "output_type": "execute_result",
          "data": {
            "text/plain": [
              "                     year  month  day  hour  pm2.5  DEWP  TEMP    PRES cbwd  \\\n",
              "date                                                                          \n",
              "2010-01-01 00:00:00  2010      1    1     0    NaN   -21 -11.0  1021.0   NW   \n",
              "2010-01-01 01:00:00  2010      1    1     1    NaN   -21 -12.0  1020.0   NW   \n",
              "2010-01-01 02:00:00  2010      1    1     2    NaN   -21 -11.0  1019.0   NW   \n",
              "2010-01-01 03:00:00  2010      1    1     3    NaN   -21 -14.0  1019.0   NW   \n",
              "2010-01-01 04:00:00  2010      1    1     4    NaN   -20 -12.0  1018.0   NW   \n",
              "2010-01-01 05:00:00  2010      1    1     5    NaN   -19 -10.0  1017.0   NW   \n",
              "2010-01-01 06:00:00  2010      1    1     6    NaN   -19  -9.0  1017.0   NW   \n",
              "2010-01-01 07:00:00  2010      1    1     7    NaN   -19  -9.0  1017.0   NW   \n",
              "2010-01-01 08:00:00  2010      1    1     8    NaN   -19  -9.0  1017.0   NW   \n",
              "2010-01-01 09:00:00  2010      1    1     9    NaN   -20  -8.0  1017.0   NW   \n",
              "\n",
              "                       Iws  Is  Ir  \n",
              "date                                \n",
              "2010-01-01 00:00:00   1.79   0   0  \n",
              "2010-01-01 01:00:00   4.92   0   0  \n",
              "2010-01-01 02:00:00   6.71   0   0  \n",
              "2010-01-01 03:00:00   9.84   0   0  \n",
              "2010-01-01 04:00:00  12.97   0   0  \n",
              "2010-01-01 05:00:00  16.10   0   0  \n",
              "2010-01-01 06:00:00  19.23   0   0  \n",
              "2010-01-01 07:00:00  21.02   0   0  \n",
              "2010-01-01 08:00:00  24.15   0   0  \n",
              "2010-01-01 09:00:00  27.28   0   0  "
            ],
            "text/html": [
              "\n",
              "  <div id=\"df-0332c2c0-ef08-4ac0-b187-fdf5e4b5a162\" class=\"colab-df-container\">\n",
              "    <div>\n",
              "<style scoped>\n",
              "    .dataframe tbody tr th:only-of-type {\n",
              "        vertical-align: middle;\n",
              "    }\n",
              "\n",
              "    .dataframe tbody tr th {\n",
              "        vertical-align: top;\n",
              "    }\n",
              "\n",
              "    .dataframe thead th {\n",
              "        text-align: right;\n",
              "    }\n",
              "</style>\n",
              "<table border=\"1\" class=\"dataframe\">\n",
              "  <thead>\n",
              "    <tr style=\"text-align: right;\">\n",
              "      <th></th>\n",
              "      <th>year</th>\n",
              "      <th>month</th>\n",
              "      <th>day</th>\n",
              "      <th>hour</th>\n",
              "      <th>pm2.5</th>\n",
              "      <th>DEWP</th>\n",
              "      <th>TEMP</th>\n",
              "      <th>PRES</th>\n",
              "      <th>cbwd</th>\n",
              "      <th>Iws</th>\n",
              "      <th>Is</th>\n",
              "      <th>Ir</th>\n",
              "    </tr>\n",
              "    <tr>\n",
              "      <th>date</th>\n",
              "      <th></th>\n",
              "      <th></th>\n",
              "      <th></th>\n",
              "      <th></th>\n",
              "      <th></th>\n",
              "      <th></th>\n",
              "      <th></th>\n",
              "      <th></th>\n",
              "      <th></th>\n",
              "      <th></th>\n",
              "      <th></th>\n",
              "      <th></th>\n",
              "    </tr>\n",
              "  </thead>\n",
              "  <tbody>\n",
              "    <tr>\n",
              "      <th>2010-01-01 00:00:00</th>\n",
              "      <td>2010</td>\n",
              "      <td>1</td>\n",
              "      <td>1</td>\n",
              "      <td>0</td>\n",
              "      <td>NaN</td>\n",
              "      <td>-21</td>\n",
              "      <td>-11.0</td>\n",
              "      <td>1021.0</td>\n",
              "      <td>NW</td>\n",
              "      <td>1.79</td>\n",
              "      <td>0</td>\n",
              "      <td>0</td>\n",
              "    </tr>\n",
              "    <tr>\n",
              "      <th>2010-01-01 01:00:00</th>\n",
              "      <td>2010</td>\n",
              "      <td>1</td>\n",
              "      <td>1</td>\n",
              "      <td>1</td>\n",
              "      <td>NaN</td>\n",
              "      <td>-21</td>\n",
              "      <td>-12.0</td>\n",
              "      <td>1020.0</td>\n",
              "      <td>NW</td>\n",
              "      <td>4.92</td>\n",
              "      <td>0</td>\n",
              "      <td>0</td>\n",
              "    </tr>\n",
              "    <tr>\n",
              "      <th>2010-01-01 02:00:00</th>\n",
              "      <td>2010</td>\n",
              "      <td>1</td>\n",
              "      <td>1</td>\n",
              "      <td>2</td>\n",
              "      <td>NaN</td>\n",
              "      <td>-21</td>\n",
              "      <td>-11.0</td>\n",
              "      <td>1019.0</td>\n",
              "      <td>NW</td>\n",
              "      <td>6.71</td>\n",
              "      <td>0</td>\n",
              "      <td>0</td>\n",
              "    </tr>\n",
              "    <tr>\n",
              "      <th>2010-01-01 03:00:00</th>\n",
              "      <td>2010</td>\n",
              "      <td>1</td>\n",
              "      <td>1</td>\n",
              "      <td>3</td>\n",
              "      <td>NaN</td>\n",
              "      <td>-21</td>\n",
              "      <td>-14.0</td>\n",
              "      <td>1019.0</td>\n",
              "      <td>NW</td>\n",
              "      <td>9.84</td>\n",
              "      <td>0</td>\n",
              "      <td>0</td>\n",
              "    </tr>\n",
              "    <tr>\n",
              "      <th>2010-01-01 04:00:00</th>\n",
              "      <td>2010</td>\n",
              "      <td>1</td>\n",
              "      <td>1</td>\n",
              "      <td>4</td>\n",
              "      <td>NaN</td>\n",
              "      <td>-20</td>\n",
              "      <td>-12.0</td>\n",
              "      <td>1018.0</td>\n",
              "      <td>NW</td>\n",
              "      <td>12.97</td>\n",
              "      <td>0</td>\n",
              "      <td>0</td>\n",
              "    </tr>\n",
              "    <tr>\n",
              "      <th>2010-01-01 05:00:00</th>\n",
              "      <td>2010</td>\n",
              "      <td>1</td>\n",
              "      <td>1</td>\n",
              "      <td>5</td>\n",
              "      <td>NaN</td>\n",
              "      <td>-19</td>\n",
              "      <td>-10.0</td>\n",
              "      <td>1017.0</td>\n",
              "      <td>NW</td>\n",
              "      <td>16.10</td>\n",
              "      <td>0</td>\n",
              "      <td>0</td>\n",
              "    </tr>\n",
              "    <tr>\n",
              "      <th>2010-01-01 06:00:00</th>\n",
              "      <td>2010</td>\n",
              "      <td>1</td>\n",
              "      <td>1</td>\n",
              "      <td>6</td>\n",
              "      <td>NaN</td>\n",
              "      <td>-19</td>\n",
              "      <td>-9.0</td>\n",
              "      <td>1017.0</td>\n",
              "      <td>NW</td>\n",
              "      <td>19.23</td>\n",
              "      <td>0</td>\n",
              "      <td>0</td>\n",
              "    </tr>\n",
              "    <tr>\n",
              "      <th>2010-01-01 07:00:00</th>\n",
              "      <td>2010</td>\n",
              "      <td>1</td>\n",
              "      <td>1</td>\n",
              "      <td>7</td>\n",
              "      <td>NaN</td>\n",
              "      <td>-19</td>\n",
              "      <td>-9.0</td>\n",
              "      <td>1017.0</td>\n",
              "      <td>NW</td>\n",
              "      <td>21.02</td>\n",
              "      <td>0</td>\n",
              "      <td>0</td>\n",
              "    </tr>\n",
              "    <tr>\n",
              "      <th>2010-01-01 08:00:00</th>\n",
              "      <td>2010</td>\n",
              "      <td>1</td>\n",
              "      <td>1</td>\n",
              "      <td>8</td>\n",
              "      <td>NaN</td>\n",
              "      <td>-19</td>\n",
              "      <td>-9.0</td>\n",
              "      <td>1017.0</td>\n",
              "      <td>NW</td>\n",
              "      <td>24.15</td>\n",
              "      <td>0</td>\n",
              "      <td>0</td>\n",
              "    </tr>\n",
              "    <tr>\n",
              "      <th>2010-01-01 09:00:00</th>\n",
              "      <td>2010</td>\n",
              "      <td>1</td>\n",
              "      <td>1</td>\n",
              "      <td>9</td>\n",
              "      <td>NaN</td>\n",
              "      <td>-20</td>\n",
              "      <td>-8.0</td>\n",
              "      <td>1017.0</td>\n",
              "      <td>NW</td>\n",
              "      <td>27.28</td>\n",
              "      <td>0</td>\n",
              "      <td>0</td>\n",
              "    </tr>\n",
              "  </tbody>\n",
              "</table>\n",
              "</div>\n",
              "    <div class=\"colab-df-buttons\">\n",
              "\n",
              "  <div class=\"colab-df-container\">\n",
              "    <button class=\"colab-df-convert\" onclick=\"convertToInteractive('df-0332c2c0-ef08-4ac0-b187-fdf5e4b5a162')\"\n",
              "            title=\"Convert this dataframe to an interactive table.\"\n",
              "            style=\"display:none;\">\n",
              "\n",
              "  <svg xmlns=\"http://www.w3.org/2000/svg\" height=\"24px\" viewBox=\"0 -960 960 960\">\n",
              "    <path d=\"M120-120v-720h720v720H120Zm60-500h600v-160H180v160Zm220 220h160v-160H400v160Zm0 220h160v-160H400v160ZM180-400h160v-160H180v160Zm440 0h160v-160H620v160ZM180-180h160v-160H180v160Zm440 0h160v-160H620v160Z\"/>\n",
              "  </svg>\n",
              "    </button>\n",
              "\n",
              "  <style>\n",
              "    .colab-df-container {\n",
              "      display:flex;\n",
              "      gap: 12px;\n",
              "    }\n",
              "\n",
              "    .colab-df-convert {\n",
              "      background-color: #E8F0FE;\n",
              "      border: none;\n",
              "      border-radius: 50%;\n",
              "      cursor: pointer;\n",
              "      display: none;\n",
              "      fill: #1967D2;\n",
              "      height: 32px;\n",
              "      padding: 0 0 0 0;\n",
              "      width: 32px;\n",
              "    }\n",
              "\n",
              "    .colab-df-convert:hover {\n",
              "      background-color: #E2EBFA;\n",
              "      box-shadow: 0px 1px 2px rgba(60, 64, 67, 0.3), 0px 1px 3px 1px rgba(60, 64, 67, 0.15);\n",
              "      fill: #174EA6;\n",
              "    }\n",
              "\n",
              "    .colab-df-buttons div {\n",
              "      margin-bottom: 4px;\n",
              "    }\n",
              "\n",
              "    [theme=dark] .colab-df-convert {\n",
              "      background-color: #3B4455;\n",
              "      fill: #D2E3FC;\n",
              "    }\n",
              "\n",
              "    [theme=dark] .colab-df-convert:hover {\n",
              "      background-color: #434B5C;\n",
              "      box-shadow: 0px 1px 3px 1px rgba(0, 0, 0, 0.15);\n",
              "      filter: drop-shadow(0px 1px 2px rgba(0, 0, 0, 0.3));\n",
              "      fill: #FFFFFF;\n",
              "    }\n",
              "  </style>\n",
              "\n",
              "    <script>\n",
              "      const buttonEl =\n",
              "        document.querySelector('#df-0332c2c0-ef08-4ac0-b187-fdf5e4b5a162 button.colab-df-convert');\n",
              "      buttonEl.style.display =\n",
              "        google.colab.kernel.accessAllowed ? 'block' : 'none';\n",
              "\n",
              "      async function convertToInteractive(key) {\n",
              "        const element = document.querySelector('#df-0332c2c0-ef08-4ac0-b187-fdf5e4b5a162');\n",
              "        const dataTable =\n",
              "          await google.colab.kernel.invokeFunction('convertToInteractive',\n",
              "                                                    [key], {});\n",
              "        if (!dataTable) return;\n",
              "\n",
              "        const docLinkHtml = 'Like what you see? Visit the ' +\n",
              "          '<a target=\"_blank\" href=https://colab.research.google.com/notebooks/data_table.ipynb>data table notebook</a>'\n",
              "          + ' to learn more about interactive tables.';\n",
              "        element.innerHTML = '';\n",
              "        dataTable['output_type'] = 'display_data';\n",
              "        await google.colab.output.renderOutput(dataTable, element);\n",
              "        const docLink = document.createElement('div');\n",
              "        docLink.innerHTML = docLinkHtml;\n",
              "        element.appendChild(docLink);\n",
              "      }\n",
              "    </script>\n",
              "  </div>\n",
              "\n",
              "\n",
              "<div id=\"df-707a6037-740c-4b16-b64b-f841884adb7d\">\n",
              "  <button class=\"colab-df-quickchart\" onclick=\"quickchart('df-707a6037-740c-4b16-b64b-f841884adb7d')\"\n",
              "            title=\"Suggest charts\"\n",
              "            style=\"display:none;\">\n",
              "\n",
              "<svg xmlns=\"http://www.w3.org/2000/svg\" height=\"24px\"viewBox=\"0 0 24 24\"\n",
              "     width=\"24px\">\n",
              "    <g>\n",
              "        <path d=\"M19 3H5c-1.1 0-2 .9-2 2v14c0 1.1.9 2 2 2h14c1.1 0 2-.9 2-2V5c0-1.1-.9-2-2-2zM9 17H7v-7h2v7zm4 0h-2V7h2v10zm4 0h-2v-4h2v4z\"/>\n",
              "    </g>\n",
              "</svg>\n",
              "  </button>\n",
              "\n",
              "<style>\n",
              "  .colab-df-quickchart {\n",
              "      --bg-color: #E8F0FE;\n",
              "      --fill-color: #1967D2;\n",
              "      --hover-bg-color: #E2EBFA;\n",
              "      --hover-fill-color: #174EA6;\n",
              "      --disabled-fill-color: #AAA;\n",
              "      --disabled-bg-color: #DDD;\n",
              "  }\n",
              "\n",
              "  [theme=dark] .colab-df-quickchart {\n",
              "      --bg-color: #3B4455;\n",
              "      --fill-color: #D2E3FC;\n",
              "      --hover-bg-color: #434B5C;\n",
              "      --hover-fill-color: #FFFFFF;\n",
              "      --disabled-bg-color: #3B4455;\n",
              "      --disabled-fill-color: #666;\n",
              "  }\n",
              "\n",
              "  .colab-df-quickchart {\n",
              "    background-color: var(--bg-color);\n",
              "    border: none;\n",
              "    border-radius: 50%;\n",
              "    cursor: pointer;\n",
              "    display: none;\n",
              "    fill: var(--fill-color);\n",
              "    height: 32px;\n",
              "    padding: 0;\n",
              "    width: 32px;\n",
              "  }\n",
              "\n",
              "  .colab-df-quickchart:hover {\n",
              "    background-color: var(--hover-bg-color);\n",
              "    box-shadow: 0 1px 2px rgba(60, 64, 67, 0.3), 0 1px 3px 1px rgba(60, 64, 67, 0.15);\n",
              "    fill: var(--button-hover-fill-color);\n",
              "  }\n",
              "\n",
              "  .colab-df-quickchart-complete:disabled,\n",
              "  .colab-df-quickchart-complete:disabled:hover {\n",
              "    background-color: var(--disabled-bg-color);\n",
              "    fill: var(--disabled-fill-color);\n",
              "    box-shadow: none;\n",
              "  }\n",
              "\n",
              "  .colab-df-spinner {\n",
              "    border: 2px solid var(--fill-color);\n",
              "    border-color: transparent;\n",
              "    border-bottom-color: var(--fill-color);\n",
              "    animation:\n",
              "      spin 1s steps(1) infinite;\n",
              "  }\n",
              "\n",
              "  @keyframes spin {\n",
              "    0% {\n",
              "      border-color: transparent;\n",
              "      border-bottom-color: var(--fill-color);\n",
              "      border-left-color: var(--fill-color);\n",
              "    }\n",
              "    20% {\n",
              "      border-color: transparent;\n",
              "      border-left-color: var(--fill-color);\n",
              "      border-top-color: var(--fill-color);\n",
              "    }\n",
              "    30% {\n",
              "      border-color: transparent;\n",
              "      border-left-color: var(--fill-color);\n",
              "      border-top-color: var(--fill-color);\n",
              "      border-right-color: var(--fill-color);\n",
              "    }\n",
              "    40% {\n",
              "      border-color: transparent;\n",
              "      border-right-color: var(--fill-color);\n",
              "      border-top-color: var(--fill-color);\n",
              "    }\n",
              "    60% {\n",
              "      border-color: transparent;\n",
              "      border-right-color: var(--fill-color);\n",
              "    }\n",
              "    80% {\n",
              "      border-color: transparent;\n",
              "      border-right-color: var(--fill-color);\n",
              "      border-bottom-color: var(--fill-color);\n",
              "    }\n",
              "    90% {\n",
              "      border-color: transparent;\n",
              "      border-bottom-color: var(--fill-color);\n",
              "    }\n",
              "  }\n",
              "</style>\n",
              "\n",
              "  <script>\n",
              "    async function quickchart(key) {\n",
              "      const quickchartButtonEl =\n",
              "        document.querySelector('#' + key + ' button');\n",
              "      quickchartButtonEl.disabled = true;  // To prevent multiple clicks.\n",
              "      quickchartButtonEl.classList.add('colab-df-spinner');\n",
              "      try {\n",
              "        const charts = await google.colab.kernel.invokeFunction(\n",
              "            'suggestCharts', [key], {});\n",
              "      } catch (error) {\n",
              "        console.error('Error during call to suggestCharts:', error);\n",
              "      }\n",
              "      quickchartButtonEl.classList.remove('colab-df-spinner');\n",
              "      quickchartButtonEl.classList.add('colab-df-quickchart-complete');\n",
              "    }\n",
              "    (() => {\n",
              "      let quickchartButtonEl =\n",
              "        document.querySelector('#df-707a6037-740c-4b16-b64b-f841884adb7d button');\n",
              "      quickchartButtonEl.style.display =\n",
              "        google.colab.kernel.accessAllowed ? 'block' : 'none';\n",
              "    })();\n",
              "  </script>\n",
              "</div>\n",
              "\n",
              "    </div>\n",
              "  </div>\n"
            ],
            "application/vnd.google.colaboratory.intrinsic+json": {
              "type": "dataframe",
              "variable_name": "df",
              "summary": "{\n  \"name\": \"df\",\n  \"rows\": 43824,\n  \"fields\": [\n    {\n      \"column\": \"date\",\n      \"properties\": {\n        \"dtype\": \"date\",\n        \"min\": \"2010-01-01 00:00:00\",\n        \"max\": \"2014-12-31 23:00:00\",\n        \"num_unique_values\": 43824,\n        \"samples\": [\n          \"2012-06-21 08:00:00\",\n          \"2010-03-07 10:00:00\",\n          \"2014-01-13 07:00:00\"\n        ],\n        \"semantic_type\": \"\",\n        \"description\": \"\"\n      }\n    },\n    {\n      \"column\": \"year\",\n      \"properties\": {\n        \"dtype\": \"number\",\n        \"std\": 1,\n        \"min\": 2010,\n        \"max\": 2014,\n        \"num_unique_values\": 5,\n        \"samples\": [\n          2011,\n          2014,\n          2012\n        ],\n        \"semantic_type\": \"\",\n        \"description\": \"\"\n      }\n    },\n    {\n      \"column\": \"month\",\n      \"properties\": {\n        \"dtype\": \"number\",\n        \"std\": 3,\n        \"min\": 1,\n        \"max\": 12,\n        \"num_unique_values\": 12,\n        \"samples\": [\n          11,\n          10,\n          1\n        ],\n        \"semantic_type\": \"\",\n        \"description\": \"\"\n      }\n    },\n    {\n      \"column\": \"day\",\n      \"properties\": {\n        \"dtype\": \"number\",\n        \"std\": 8,\n        \"min\": 1,\n        \"max\": 31,\n        \"num_unique_values\": 31,\n        \"samples\": [\n          28,\n          16,\n          24\n        ],\n        \"semantic_type\": \"\",\n        \"description\": \"\"\n      }\n    },\n    {\n      \"column\": \"hour\",\n      \"properties\": {\n        \"dtype\": \"number\",\n        \"std\": 6,\n        \"min\": 0,\n        \"max\": 23,\n        \"num_unique_values\": 24,\n        \"samples\": [\n          8,\n          16,\n          0\n        ],\n        \"semantic_type\": \"\",\n        \"description\": \"\"\n      }\n    },\n    {\n      \"column\": \"pm2.5\",\n      \"properties\": {\n        \"dtype\": \"number\",\n        \"std\": 92.05038718924065,\n        \"min\": 0.0,\n        \"max\": 994.0,\n        \"num_unique_values\": 581,\n        \"samples\": [\n          483.0,\n          220.0,\n          165.0\n        ],\n        \"semantic_type\": \"\",\n        \"description\": \"\"\n      }\n    },\n    {\n      \"column\": \"DEWP\",\n      \"properties\": {\n        \"dtype\": \"number\",\n        \"std\": 14,\n        \"min\": -40,\n        \"max\": 28,\n        \"num_unique_values\": 69,\n        \"samples\": [\n          -6,\n          -21,\n          20\n        ],\n        \"semantic_type\": \"\",\n        \"description\": \"\"\n      }\n    },\n    {\n      \"column\": \"TEMP\",\n      \"properties\": {\n        \"dtype\": \"number\",\n        \"std\": 12.198612789671555,\n        \"min\": -19.0,\n        \"max\": 42.0,\n        \"num_unique_values\": 64,\n        \"samples\": [\n          33.0,\n          39.0,\n          -11.0\n        ],\n        \"semantic_type\": \"\",\n        \"description\": \"\"\n      }\n    },\n    {\n      \"column\": \"PRES\",\n      \"properties\": {\n        \"dtype\": \"number\",\n        \"std\": 10.26869796157482,\n        \"min\": 991.0,\n        \"max\": 1046.0,\n        \"num_unique_values\": 60,\n        \"samples\": [\n          1021.0,\n          1015.0,\n          1002.0\n        ],\n        \"semantic_type\": \"\",\n        \"description\": \"\"\n      }\n    },\n    {\n      \"column\": \"cbwd\",\n      \"properties\": {\n        \"dtype\": \"category\",\n        \"num_unique_values\": 4,\n        \"samples\": [\n          \"cv\",\n          \"SE\",\n          \"NW\"\n        ],\n        \"semantic_type\": \"\",\n        \"description\": \"\"\n      }\n    },\n    {\n      \"column\": \"Iws\",\n      \"properties\": {\n        \"dtype\": \"number\",\n        \"std\": 50.01063466523068,\n        \"min\": 0.45,\n        \"max\": 585.6,\n        \"num_unique_values\": 2788,\n        \"samples\": [\n          78.21,\n          61.67,\n          56.76\n        ],\n        \"semantic_type\": \"\",\n        \"description\": \"\"\n      }\n    },\n    {\n      \"column\": \"Is\",\n      \"properties\": {\n        \"dtype\": \"number\",\n        \"std\": 0,\n        \"min\": 0,\n        \"max\": 27,\n        \"num_unique_values\": 28,\n        \"samples\": [\n          9,\n          27,\n          8\n        ],\n        \"semantic_type\": \"\",\n        \"description\": \"\"\n      }\n    },\n    {\n      \"column\": \"Ir\",\n      \"properties\": {\n        \"dtype\": \"number\",\n        \"std\": 1,\n        \"min\": 0,\n        \"max\": 36,\n        \"num_unique_values\": 37,\n        \"samples\": [\n          17,\n          13,\n          4\n        ],\n        \"semantic_type\": \"\",\n        \"description\": \"\"\n      }\n    }\n  ]\n}"
            }
          },
          "metadata": {},
          "execution_count": 7
        }
      ],
      "source": [
        "df.drop(\"No\",axis=1, inplace=True)\n",
        "df[\"date\"]= pd.to_datetime(df['year'].astype(str)+'-'+df['month'].astype(str)+\"-\"+df[\"day\"].astype(str)+\"T\"+df[\"hour\"].astype(str).apply(lambda x: x.zfill(2)+\":00\"))\n",
        "df.set_index(df.date, inplace=True)\n",
        "df.drop(\"date\", axis=1, inplace=True)\n",
        "df.head(10)"
      ]
    },
    {
      "cell_type": "markdown",
      "metadata": {
        "id": "D2ZiZu1AGMfj"
      },
      "source": [
        "## Encoding day of week\n",
        "\n",
        "We explicitly encode the day of week, since we assume that weekends and workdays behave differently."
      ]
    },
    {
      "cell_type": "code",
      "execution_count": 8,
      "metadata": {
        "ExecuteTime": {
          "end_time": "2019-05-02T15:25:01.000339Z",
          "start_time": "2019-05-02T15:25:00.993439Z"
        },
        "collapsed": true,
        "id": "ITXysAsZGMfj"
      },
      "outputs": [],
      "source": [
        "df[\"dayofweek\"]=df.index.dayofweek+1"
      ]
    },
    {
      "cell_type": "markdown",
      "metadata": {
        "id": "Yup9MaiVGMfj"
      },
      "source": [
        "# Decision about NaN-s"
      ]
    },
    {
      "cell_type": "code",
      "execution_count": 9,
      "metadata": {
        "ExecuteTime": {
          "end_time": "2019-05-02T15:25:01.354703Z",
          "start_time": "2019-05-02T15:25:01.001819Z"
        },
        "collapsed": true,
        "id": "tJffashFGMfj",
        "colab": {
          "base_uri": "https://localhost:8080/",
          "height": 583
        },
        "outputId": "01943a7d-1d10-487f-a1de-8777be8d26e3"
      },
      "outputs": [
        {
          "output_type": "execute_result",
          "data": {
            "text/plain": [
              "<Axes: xlabel='date'>"
            ]
          },
          "metadata": {},
          "execution_count": 9
        },
        {
          "output_type": "display_data",
          "data": {
            "text/plain": [
              "<Figure size 1000x700 with 1 Axes>"
            ],
            "image/png": "[encoded data removed]"
          },
          "metadata": {}
        }
      ],
      "source": [
        "fig = plt.gcf()\n",
        "fig.set_size_inches(10,7)\n",
        "df[\"pm2.5\"].isnull().astype(float).plot()"
      ]
    },
    {
      "cell_type": "code",
      "execution_count": 10,
      "metadata": {
        "ExecuteTime": {
          "end_time": "2019-05-02T15:25:01.432487Z",
          "start_time": "2019-05-02T15:25:01.356144Z"
        },
        "collapsed": true,
        "id": "bOqsGc4aGMfj",
        "colab": {
          "base_uri": "https://localhost:8080/"
        },
        "outputId": "6a3fab03-6216-471d-ec69-45cdf6eb9d7a"
      },
      "outputs": [
        {
          "output_type": "stream",
          "name": "stdout",
          "text": [
            "1-----\n",
            "% NaN datapoints per year: date\n",
            "2010    8.268446\n",
            "2011    9.063745\n",
            "2012    5.895118\n",
            "2013    0.944918\n",
            "2014    1.143055\n",
            "Name: pm2.5, dtype: float64\n",
            "2--------------------------------\n",
            "% NaN datapoints per month: date\n",
            "1      7.173725\n",
            "2      0.326119\n",
            "3      4.611924\n",
            "4      5.726872\n",
            "5      3.075644\n",
            "6      5.726872\n",
            "7      2.001645\n",
            "8     11.477375\n",
            "9      8.010801\n",
            "10     3.939648\n",
            "11     2.827763\n",
            "12     5.055069\n",
            "Name: pm2.5, dtype: float64\n",
            "3--------------------------------\n",
            "% NaN datapoints per dayofweek: date\n",
            "0    5.757218\n",
            "1    5.596763\n",
            "2    4.591752\n",
            "3    3.809682\n",
            "4    4.070444\n",
            "5    4.977376\n",
            "6    5.882353\n",
            "Name: pm2.5, dtype: float64\n",
            "4--------------------------------\n",
            "% NaN datapoints per hour: date\n",
            "0     5.244957\n",
            "1     4.641834\n",
            "2     5.002875\n",
            "3     4.641834\n",
            "4     4.701835\n",
            "5     4.942529\n",
            "6     4.942529\n",
            "7     5.002875\n",
            "8     5.063291\n",
            "9     5.002875\n",
            "10    5.305652\n",
            "11    5.732484\n",
            "12    5.488157\n",
            "13    4.402516\n",
            "14    5.123777\n",
            "15    5.002875\n",
            "16    5.123777\n",
            "17    4.822044\n",
            "18    4.283267\n",
            "19    4.822044\n",
            "20    4.942529\n",
            "21    4.882252\n",
            "22    4.882252\n",
            "23    4.822044\n",
            "Name: pm2.5, dtype: float64\n"
          ]
        }
      ],
      "source": [
        "def isnullsum(df):\n",
        "    return df.isnull().sum()\n",
        "print(\"1-----\")\n",
        "print(\"% NaN datapoints per year:\",(df.groupby(df.index.year)[\"pm2.5\"].apply(isnullsum)/df.groupby(df.index.year)[\"pm2.5\"].count())*100.0)\n",
        "\n",
        "print(\"2--------------------------------\")\n",
        "\n",
        "\n",
        "print(\"% NaN datapoints per month:\",(df.groupby(df.index.month)[\"pm2.5\"].apply(isnullsum)/df.groupby(df.index.month)[\"pm2.5\"].count())*100.0)\n",
        "\n",
        "print(\"3--------------------------------\")\n",
        "\n",
        "print(\"% NaN datapoints per dayofweek:\",(df.groupby(df.index.dayofweek)[\"pm2.5\"].apply(isnullsum)/df.groupby(df.index.dayofweek)[\"pm2.5\"].count())*100.0)\n",
        "\n",
        "print(\"4--------------------------------\")\n",
        "print(\"% NaN datapoints per hour:\",(df.groupby(df.index.hour)[\"pm2.5\"].apply(isnullsum)/df.groupby(df.index.hour)[\"pm2.5\"].count())*100.0)\n"
      ]
    },
    {
      "cell_type": "markdown",
      "metadata": {
        "id": "rP1EFKVjGMfj"
      },
      "source": [
        "After examining the NaN values in pm2.5, we see no obvious temporal pattern. This is cause for worry, since by simply dropping the rows with NaN values, we can destroy the temporal coherence of the data, hence **data imputation is desirable.**\n",
        "\n",
        "The autocorrelation charts below imply, that it is not unreasonable to take the previous value to fill NaN-s (high autocorrelation with the previous timestep)."
      ]
    },
    {
      "cell_type": "code",
      "execution_count": 11,
      "metadata": {
        "ExecuteTime": {
          "end_time": "2019-05-02T15:25:01.471480Z",
          "start_time": "2019-05-02T15:25:01.433895Z"
        },
        "collapsed": true,
        "id": "34_N8a4uGMfk",
        "colab": {
          "base_uri": "https://localhost:8080/"
        },
        "outputId": "499db130-6128-4115-9495-5bccf86af682"
      },
      "outputs": [
        {
          "output_type": "stream",
          "name": "stdout",
          "text": [
            "After ffill:\n",
            " year          0\n",
            "month         0\n",
            "day           0\n",
            "hour          0\n",
            "pm2.5        24\n",
            "DEWP          0\n",
            "TEMP          0\n",
            "PRES          0\n",
            "cbwd          0\n",
            "Iws           0\n",
            "Is            0\n",
            "Ir            0\n",
            "dayofweek     0\n",
            "dtype: int64\n",
            "After dropna:\n",
            " year         0\n",
            "month        0\n",
            "day          0\n",
            "hour         0\n",
            "pm2.5        0\n",
            "DEWP         0\n",
            "TEMP         0\n",
            "PRES         0\n",
            "cbwd         0\n",
            "Iws          0\n",
            "Is           0\n",
            "Ir           0\n",
            "dayofweek    0\n",
            "dtype: int64\n"
          ]
        }
      ],
      "source": [
        "\n",
        "df.fillna(method='ffill', inplace=True)\n",
        "\n",
        "print(\"After ffill:\\n\",df.isnull().sum())\n",
        "\n",
        "df.dropna(inplace=True)\n",
        "\n",
        "print(\"After dropna:\\n\",df.isnull().sum())\n"
      ]
    },
    {
      "cell_type": "markdown",
      "metadata": {
        "id": "-SqYXfCfGMfk"
      },
      "source": [
        "# Examining autocorrelations"
      ]
    },
    {
      "cell_type": "code",
      "execution_count": 12,
      "metadata": {
        "ExecuteTime": {
          "end_time": "2019-05-02T15:25:25.702761Z",
          "start_time": "2019-05-02T15:25:01.472908Z"
        },
        "collapsed": true,
        "id": "jTUwghlUGMfk",
        "colab": {
          "base_uri": "https://localhost:8080/",
          "height": 1000
        },
        "outputId": "80186fae-64d6-406c-8188-73a351dff2dd"
      },
      "outputs": [
        {
          "output_type": "display_data",
          "data": {
            "text/plain": [
              "<Figure size 640x480 with 0 Axes>"
            ]
          },
          "metadata": {}
        },
        {
          "output_type": "display_data",
          "data": {
            "text/plain": [
              "<Figure size 640x480 with 1 Axes>"
            ],
            "image/png": "[encoded data removed]"
          },
          "metadata": {}
        },
        {
          "output_type": "display_data",
          "data": {
            "text/plain": [
              "<Figure size 640x480 with 0 Axes>"
            ]
          },
          "metadata": {}
        },
        {
          "output_type": "display_data",
          "data": {
            "text/plain": [
              "<Figure size 640x480 with 1 Axes>"
            ],
            "image/png": "[encoded data removed]"
          },
          "metadata": {}
        },
        {
          "output_type": "display_data",
          "data": {
            "text/plain": [
              "<Figure size 640x480 with 0 Axes>"
            ]
          },
          "metadata": {}
        },
        {
          "output_type": "display_data",
          "data": {
            "text/plain": [
              "<Figure size 640x480 with 1 Axes>"
            ],
            "image/png": "[encoded data removed]"
          },
          "metadata": {}
        },
        {
          "output_type": "display_data",
          "data": {
            "text/plain": [
              "<Figure size 640x480 with 0 Axes>"
            ]
          },
          "metadata": {}
        },
        {
          "output_type": "display_data",
          "data": {
            "text/plain": [
              "<Figure size 640x480 with 1 Axes>"
            ],
            "image/png": "[encoded data removed]"
          },
          "metadata": {}
        },
        {
          "output_type": "display_data",
          "data": {
            "text/plain": [
              "<Figure size 640x480 with 0 Axes>"
            ]
          },
          "metadata": {}
        },
        {
          "output_type": "display_data",
          "data": {
            "text/plain": [
              "<Figure size 640x480 with 1 Axes>"
            ],
            "image/png": "[encoded data removed]"
          },
          "metadata": {}
        },
        {
          "output_type": "display_data",
          "data": {
            "text/plain": [
              "<Figure size 640x480 with 0 Axes>"
            ]
          },
          "metadata": {}
        },
        {
          "output_type": "display_data",
          "data": {
            "text/plain": [
              "<Figure size 640x480 with 1 Axes>"
            ],
            "image/png": "[encoded data removed]"
          },
          "metadata": {}
        },
        {
          "output_type": "display_data",
          "data": {
            "text/plain": [
              "<Figure size 640x480 with 0 Axes>"
            ]
          },
          "metadata": {}
        },
        {
          "output_type": "display_data",
          "data": {
            "text/plain": [
              "<Figure size 640x480 with 1 Axes>"
            ],
            "image/png": "[encoded data removed]"
          },
          "metadata": {}
        }
      ],
      "source": [
        "from statsmodels.graphics.tsaplots import plot_pacf\n",
        "\n",
        "#columns = [] #use this for speedup\n",
        "columns = [\"pm2.5\",\"DEWP\",\"TEMP\",\"PRES\",\"Iws\",\"Is\",\"Ir\"]\n",
        "\n",
        "for col in columns:\n",
        "    plt.figure()\n",
        "    plot_pacf(df[col].dropna(), lags=200, zero=False)\n",
        "\n",
        "plt.show()\n"
      ]
    },
    {
      "cell_type": "markdown",
      "metadata": {
        "id": "1OtU1SpyGMfk"
      },
      "source": [
        "## What do we see?\n",
        "\n",
        "Well, the fact, that we don't see.\n",
        "\n",
        "Or more precisely: smog (and weather) is slow to move, it is extremely strongly autocorrelated with itself one-two hours before, so in order to at least be able to see some autocorrelation structure beyond this, we need to filter out the first some hours from our autocorrelation analysis.\n",
        "\n",
        "(By the way, that's why we don't stick to the prediction of the next hour as in the original \"inspiration\" blogpost. Would not be too relevant...)"
      ]
    },
    {
      "cell_type": "code",
      "execution_count": 13,
      "metadata": {
        "ExecuteTime": {
          "end_time": "2019-05-02T15:25:25.715038Z",
          "start_time": "2019-05-02T15:25:25.705295Z"
        },
        "collapsed": true,
        "id": "SP_KuhVIGMfk"
      },
      "outputs": [],
      "source": [
        "from statsmodels.graphics.tsaplots import _prepare_data_corr_plot, _plot_corr\n",
        "import statsmodels.graphics.utils as utils\n",
        "from statsmodels.tsa.stattools import pacf\n",
        "\n",
        "def plot_pacf_drop(x, ax=None, lags=None, alpha=.05, method='ywadjusted',\n",
        "              use_vlines=True, title='Partial Autocorrelation', zero=True,\n",
        "              vlines_kwargs=None, drop_no=0, **kwargs):\n",
        "\n",
        "    lags_orig=lags\n",
        "    fig, ax = utils.create_mpl_ax(ax)\n",
        "    vlines_kwargs = {} if vlines_kwargs is None else vlines_kwargs\n",
        "    lags, nlags, irregular = _prepare_data_corr_plot(x, lags, zero)\n",
        "    confint = None\n",
        "    if alpha is None:\n",
        "        acf_x = pacf(x, nlags=nlags, alpha=alpha, method=method)\n",
        "    else:\n",
        "        acf_x, confint = pacf(x, nlags=nlags, alpha=alpha, method=method)\n",
        "\n",
        "    if drop_no:\n",
        "        acf_x = acf_x[drop_no+1:]\n",
        "        confint = confint[drop_no+1:]\n",
        "        lags, nlags, irregular = _prepare_data_corr_plot(x, lags_orig-drop_no, zero)\n",
        "\n",
        "    _plot_corr(ax, title, acf_x, confint, lags, False, use_vlines,\n",
        "               vlines_kwargs, **kwargs)\n",
        "\n",
        "    return fig"
      ]
    },
    {
      "cell_type": "code",
      "execution_count": 14,
      "metadata": {
        "ExecuteTime": {
          "end_time": "2019-05-02T15:25:56.406955Z",
          "start_time": "2019-05-02T15:25:25.718313Z"
        },
        "collapsed": true,
        "scrolled": false,
        "id": "-5FwZ8ZEGMfk",
        "colab": {
          "base_uri": "https://localhost:8080/",
          "height": 1000
        },
        "outputId": "7a44163f-ae2c-4384-c714-460de2efce19"
      },
      "outputs": [
        {
          "output_type": "display_data",
          "data": {
            "text/plain": [
              "<Figure size 640x480 with 0 Axes>"
            ]
          },
          "metadata": {}
        },
        {
          "output_type": "display_data",
          "data": {
            "text/plain": [
              "<Figure size 640x480 with 1 Axes>"
            ],
            "image/png": "[encoded data removed]"
          },
          "metadata": {}
        },
        {
          "output_type": "display_data",
          "data": {
            "text/plain": [
              "<Figure size 640x480 with 0 Axes>"
            ]
          },
          "metadata": {}
        },
        {
          "output_type": "display_data",
          "data": {
            "text/plain": [
              "<Figure size 640x480 with 1 Axes>"
            ],
            "image/png": "[encoded data removed]"
          },
          "metadata": {}
        },
        {
          "output_type": "display_data",
          "data": {
            "text/plain": [
              "<Figure size 640x480 with 0 Axes>"
            ]
          },
          "metadata": {}
        },
        {
          "output_type": "display_data",
          "data": {
            "text/plain": [
              "<Figure size 640x480 with 1 Axes>"
            ],
            "image/png": "[encoded data removed]"
          },
          "metadata": {}
        },
        {
          "output_type": "display_data",
          "data": {
            "text/plain": [
              "<Figure size 640x480 with 0 Axes>"
            ]
          },
          "metadata": {}
        },
        {
          "output_type": "display_data",
          "data": {
            "text/plain": [
              "<Figure size 640x480 with 1 Axes>"
            ],
            "image/png": "[encoded data removed]"
          },
          "metadata": {}
        },
        {
          "output_type": "display_data",
          "data": {
            "text/plain": [
              "<Figure size 640x480 with 0 Axes>"
            ]
          },
          "metadata": {}
        },
        {
          "output_type": "display_data",
          "data": {
            "text/plain": [
              "<Figure size 640x480 with 1 Axes>"
            ],
            "image/png": "[encoded data removed]"
          },
          "metadata": {}
        },
        {
          "output_type": "display_data",
          "data": {
            "text/plain": [
              "<Figure size 640x480 with 0 Axes>"
            ]
          },
          "metadata": {}
        },
        {
          "output_type": "display_data",
          "data": {
            "text/plain": [
              "<Figure size 640x480 with 1 Axes>"
            ],
            "image/png": "[encoded data removed]"
          },
          "metadata": {}
        },
        {
          "output_type": "display_data",
          "data": {
            "text/plain": [
              "<Figure size 640x480 with 0 Axes>"
            ]
          },
          "metadata": {}
        },
        {
          "output_type": "display_data",
          "data": {
            "text/plain": [
              "<Figure size 640x480 with 1 Axes>"
            ],
            "image/png": "[encoded data removed]"
          },
          "metadata": {}
        }
      ],
      "source": [
        "import matplotlib.pyplot as plt\n",
        "\n",
        "#columns = [] #use this for speedup\n",
        "columns = [\"pm2.5\",\"DEWP\",\"TEMP\",\"PRES\",\"Iws\",\"Is\",\"Ir\"]\n",
        "\n",
        "for col in columns:\n",
        "    plt.figure()\n",
        "    plot_pacf_drop(df[col].dropna(), lags=200, drop_no=3, zero=False)\n",
        "\n",
        "plt.show()\n"
      ]
    },
    {
      "cell_type": "markdown",
      "metadata": {
        "id": "sUg1tap6GMfk"
      },
      "source": [
        "Studying even the filtered charts leaves us in doubt about the possible window for modeling (in case of the classical models), so we will keep 100 as the modeling window (nearly two weeks). This is a parameter that is worth empirically studying later on.\n",
        "\n",
        "It is worth mentioning, that the `pacf` charts would definitely change drastically if we would use some differencing. Since down below we decide not to, we keep it as it is."
      ]
    },
    {
      "cell_type": "markdown",
      "metadata": {
        "id": "0UKsFELwGMfk"
      },
      "source": [
        "## Seasonal decomposition and the question of trends"
      ]
    },
    {
      "cell_type": "code",
      "execution_count": 15,
      "metadata": {
        "ExecuteTime": {
          "end_time": "2019-05-02T15:25:57.851934Z",
          "start_time": "2019-05-02T15:25:56.409704Z"
        },
        "collapsed": true,
        "id": "cj6F4X1DGMfk",
        "colab": {
          "base_uri": "https://localhost:8080/",
          "height": 487
        },
        "outputId": "65102403-ba41-465c-d44d-f33308003b8d"
      },
      "outputs": [
        {
          "output_type": "display_data",
          "data": {
            "text/plain": [
              "<Figure size 640x480 with 4 Axes>"
            ],
            "image/png": "[encoded data removed]"
          },
          "metadata": {}
        }
      ],
      "source": [
        "from statsmodels.tsa.seasonal import seasonal_decompose\n",
        "from statsmodels.tsa.tsatools import freq_to_period\n",
        "import matplotlib.pyplot as plt\n",
        "\n",
        "analysis = seasonal_decompose(df[\"pm2.5\"], period=freq_to_period(df.index.inferred_freq))\n",
        "\n",
        "analysis.plot()\n",
        "plt.show()"
      ]
    },
    {
      "cell_type": "markdown",
      "metadata": {
        "id": "5OZWjtPMGMfk"
      },
      "source": [
        "Well, the default setting (infer periods - hourly) is rather uninformative, so it is maybe worth using some domain knowledge here, and use yearly frequency."
      ]
    },
    {
      "cell_type": "code",
      "execution_count": 16,
      "metadata": {
        "ExecuteTime": {
          "end_time": "2019-05-02T15:25:59.931549Z",
          "start_time": "2019-05-02T15:25:57.854582Z"
        },
        "collapsed": true,
        "id": "cuG_zzZEGMfk",
        "colab": {
          "base_uri": "https://localhost:8080/",
          "height": 487
        },
        "outputId": "3eaf083d-4607-4a90-9ef9-d15018d8918b"
      },
      "outputs": [
        {
          "output_type": "display_data",
          "data": {
            "text/plain": [
              "<Figure size 640x480 with 4 Axes>"
            ],
            "image/png": "[encoded data removed]"
          },
          "metadata": {}
        }
      ],
      "source": [
        "analysis = seasonal_decompose(df[\"pm2.5\"], period=24*365)\n",
        "\n",
        "analysis.plot()\n",
        "plt.show()"
      ]
    },
    {
      "cell_type": "markdown",
      "metadata": {
        "id": "2jviz54uGMfk"
      },
      "source": [
        "We do get the first impression, that there is no overarching simple trend, as well as there are non-trivial seasonal patterns. At a later stage we should investigate differencing regimes, but for now, we leave the data as is."
      ]
    },
    {
      "cell_type": "markdown",
      "metadata": {
        "id": "9fuyE50HGMfk"
      },
      "source": [
        "# Train, valid, test split - before normalization\n",
        "\n",
        "Contamination by the normalization values is a distant possibility, but let's stick to paranoid practices."
      ]
    },
    {
      "cell_type": "code",
      "execution_count": 17,
      "metadata": {
        "ExecuteTime": {
          "end_time": "2019-05-02T15:25:59.936881Z",
          "start_time": "2019-05-02T15:25:59.933655Z"
        },
        "collapsed": true,
        "id": "zb1H5bH2GMfk"
      },
      "outputs": [],
      "source": [
        "VALID_AND_TEST_SIZE=0.1"
      ]
    },
    {
      "cell_type": "code",
      "execution_count": 18,
      "metadata": {
        "ExecuteTime": {
          "end_time": "2019-05-02T15:26:00.056548Z",
          "start_time": "2019-05-02T15:25:59.940082Z"
        },
        "collapsed": true,
        "id": "qA09FgU7GMfk"
      },
      "outputs": [],
      "source": [
        "from sklearn.model_selection import train_test_split\n",
        "\n",
        "X_train, X_else, y_train, y_else = train_test_split(df, df[\"pm2.5\"], test_size=VALID_AND_TEST_SIZE*2, shuffle=False)\n",
        "X_valid, X_test, y_valid, y_test = train_test_split(X_else, y_else, test_size=0.5, shuffle=False)\n"
      ]
    },
    {
      "cell_type": "markdown",
      "metadata": {
        "id": "2U3EP2XdGMfk"
      },
      "source": [
        "We could have used `temporal_split` from `seglearn`, but that would have cast everything to numpy, so it was more convenient this way for now. Using `seglearn` is encouraged - if we would like to go into classical modeling."
      ]
    },
    {
      "cell_type": "markdown",
      "metadata": {
        "ExecuteTime": {
          "end_time": "2019-04-28T08:49:44.040034Z",
          "start_time": "2019-04-28T08:49:43.994879Z"
        },
        "id": "N86lBY0jGMfk"
      },
      "source": [
        "# Data normalization\n",
        "\n",
        "Our default assumption is to use Scikit's minmax scaler for easier learning by neural models."
      ]
    },
    {
      "cell_type": "markdown",
      "metadata": {
        "ExecuteTime": {
          "end_time": "2019-04-28T08:49:44.040034Z",
          "start_time": "2019-04-28T08:49:43.994879Z"
        },
        "id": "ADCqe6CGGMfk"
      },
      "source": [
        "But there are some exceptions:\n",
        "\n",
        "## How to normalize dates?\n",
        "\n",
        "For the year it is more tricky, it is basically an ordinal.\n",
        "Subtracting the first year is nice, but how to handle the normalization to 0,1?\n",
        "\n",
        "We could use 2018 as a max, but **WE WOULD HAVE TO WRITE A BIG CAVEAT MESSAGE FOR DEPLOY PEOPLE!**\n",
        "\n",
        "So it should be something like  `(df.year - (df.year.min())-1)/((df.year.max()-df.year.min())*2)` (-1 is for avoiding zero, making the life of the network more easy...)\n",
        "\n",
        "For now we stick to the minmax scaler (living risky... :-)\n",
        "\n",
        "For month, day, hour default assumption is, scikit's minmax scaler could work, but we will choose a more elaborate solution from [here](https://ianlondon.github.io/blog/encoding-cyclical-features-24hour-time/). This capitalizes on the circular nature of these quasi ordinals.\n"
      ]
    },
    {
      "cell_type": "code",
      "execution_count": 19,
      "metadata": {
        "ExecuteTime": {
          "end_time": "2019-05-02T15:26:00.065112Z",
          "start_time": "2019-05-02T15:26:00.059198Z"
        },
        "collapsed": true,
        "id": "bhRIakLRGMfk"
      },
      "outputs": [],
      "source": [
        "from sklearn.preprocessing import MinMaxScaler\n",
        "import warnings\n",
        "from sklearn.exceptions import DataConversionWarning\n",
        "warnings.filterwarnings(action='ignore', category=DataConversionWarning)\n",
        "# I literally hate when a standard Scikit function throws big bunches of warnings\n",
        "# - though suppressing them is a dangerous practice. Hence this comment.\n",
        "\n",
        "def minmax_scale(df_x,series_y, normalizers=None):\n",
        "    features_to_minmax = [\"year\",\"pm2.5\",\"DEWP\",\"TEMP\",\"PRES\",\"Iws\",\"Is\",\"Ir\"]\n",
        "\n",
        "    if not normalizers:\n",
        "        normalizers = {}\n",
        "\n",
        "    for feat in features_to_minmax:\n",
        "        if feat not in normalizers:\n",
        "            normalizers[feat] = MinMaxScaler()\n",
        "            normalizers[feat].fit(df_x[feat].values.reshape(-1, 1))\n",
        "\n",
        "        df_x[feat] = normalizers[feat].transform(df_x[feat].values.reshape(-1, 1))\n",
        "\n",
        "    series_y=normalizers[\"pm2.5\"].transform(series_y.values.reshape(-1, 1))\n",
        "\n",
        "    return df_x, series_y, normalizers"
      ]
    },
    {
      "cell_type": "code",
      "execution_count": 20,
      "metadata": {
        "ExecuteTime": {
          "end_time": "2019-05-02T15:26:00.964633Z",
          "start_time": "2019-05-02T15:26:00.067037Z"
        },
        "collapsed": true,
        "id": "V3OfM7e9GMfk"
      },
      "outputs": [],
      "source": [
        "\n",
        "X_train_norm, y_train_norm, normalizers = minmax_scale(X_train, y_train)\n",
        "X_valid_norm, y_valid_norm, _ = minmax_scale(X_valid, y_valid, normalizers=normalizers)\n",
        "X_test_norm, y_test_norm, _ = minmax_scale(X_test, y_test, normalizers=normalizers)\n"
      ]
    },
    {
      "cell_type": "markdown",
      "metadata": {
        "ExecuteTime": {
          "end_time": "2019-04-28T08:49:44.040034Z",
          "start_time": "2019-04-28T08:49:43.994879Z"
        },
        "id": "UPaxNif0GMfk"
      },
      "source": [
        "## Encoding of ordinals\n",
        "\n",
        "The encoding of `cbwd` is interesting, since it is an ordinal again, or better to say not even that, it has a nice circular topology, so we will use the same sin-cos solution.\n",
        "\n",
        "Problem is, that there is a valid \"zero\" value, marked \"cv\" in there. We are tempted to replace that with 0."
      ]
    },
    {
      "cell_type": "code",
      "execution_count": 21,
      "metadata": {
        "ExecuteTime": {
          "end_time": "2019-05-02T15:26:00.974581Z",
          "start_time": "2019-05-02T15:26:00.966574Z"
        },
        "collapsed": true,
        "id": "_IUWc3qLGMfl"
      },
      "outputs": [],
      "source": [
        "\n",
        "def encode_cyclicals(df_x):\n",
        "    #\"month\",\"day\",\"hour\", \"cdbw\", \"dayofweek\"\n",
        "\n",
        "    DIRECTIONS = {\"N\":1.0,\"NE\":2.0, \"E\":3.0, \"SE\":4.0, \"S\":5.0, \"SW\":6.0, \"W\":7.0, \"NW\":8.0, \"cv\":np.nan}\n",
        "\n",
        "    df_x['month_sin'] = np.sin(2*np.pi*df_x.month/12)\n",
        "    df_x['month_cos'] = np.cos(2*np.pi*df_x.month/12)\n",
        "    df_x.drop('month', axis=1, inplace=True)\n",
        "\n",
        "    df_x['day_sin'] = np.sin(2*np.pi*df_x.day/31)\n",
        "    df_x['day_cos'] = np.cos(2*np.pi*df_x.day/31)\n",
        "    df_x.drop('day', axis=1, inplace=True)\n",
        "\n",
        "    df_x['dayofweek_sin'] = np.sin(2*np.pi*df_x.dayofweek/7)\n",
        "    df_x['dayofweek_cos'] = np.cos(2*np.pi*df_x.dayofweek/7)\n",
        "    df_x.drop('dayofweek', axis=1, inplace=True)\n",
        "\n",
        "    df_x['hour_sin'] = np.sin(2*np.pi*df_x.hour/24)\n",
        "    df_x['hour_cos'] = np.cos(2*np.pi*df_x.hour/24)\n",
        "    df_x.drop('hour', axis=1, inplace=True)\n",
        "\n",
        "    df_x.replace({'cbwd': DIRECTIONS}, inplace=True)\n",
        "    df_x['cbwd'] = df_x['cbwd'].astype(np.float64)\n",
        "\n",
        "    df_x['cbwd_sin'] = np.sin(2.0*np.pi*df_x.cbwd/8.0)\n",
        "    df_x['cbwd_sin'].replace(np.nan, 0.0, inplace=True) #Let's handle the case with no wind specially\n",
        "    df_x['cbwd_cos'] = np.cos(2.0*np.pi*df_x.cbwd/8.0)\n",
        "    df_x['cbwd_cos'].replace(np.nan, 0.0, inplace=True) #Let's handle the case with no wind specially\n",
        "    df_x.drop('cbwd', axis=1, inplace=True)\n",
        "\n",
        "    return df_x"
      ]
    },
    {
      "cell_type": "code",
      "execution_count": 22,
      "metadata": {
        "ExecuteTime": {
          "end_time": "2019-05-02T15:26:03.103910Z",
          "start_time": "2019-05-02T15:26:00.977468Z"
        },
        "collapsed": true,
        "id": "ge8ZFhxeGMfl"
      },
      "outputs": [],
      "source": [
        "X_train_norm = encode_cyclicals(X_train_norm)\n",
        "X_valid_norm = encode_cyclicals(X_valid_norm)\n",
        "X_test_norm = encode_cyclicals(X_test_norm)"
      ]
    },
    {
      "cell_type": "code",
      "execution_count": 23,
      "metadata": {
        "ExecuteTime": {
          "end_time": "2019-05-02T15:26:03.157729Z",
          "start_time": "2019-05-02T15:26:03.105840Z"
        },
        "collapsed": true,
        "id": "SZ7U1rSBGMfl",
        "colab": {
          "base_uri": "https://localhost:8080/",
          "height": 822
        },
        "outputId": "af4dcd8e-4e70-4d34-8cf2-1505b0121167"
      },
      "outputs": [
        {
          "output_type": "execute_result",
          "data": {
            "text/plain": [
              "                     year     pm2.5      DEWP      TEMP      PRES       Iws  \\\n",
              "date                                                                          \n",
              "2010-01-02 00:00:00   0.0  0.129779  0.278689  0.250000  0.527273  0.002290   \n",
              "2010-01-02 01:00:00   0.0  0.148893  0.295082  0.250000  0.527273  0.003811   \n",
              "2010-01-02 02:00:00   0.0  0.159960  0.360656  0.233333  0.545455  0.005332   \n",
              "2010-01-02 03:00:00   0.0  0.182093  0.426230  0.233333  0.563636  0.008391   \n",
              "2010-01-02 04:00:00   0.0  0.138833  0.426230  0.233333  0.563636  0.009912   \n",
              "...                   ...       ...       ...       ...       ...       ...   \n",
              "2013-12-31 19:00:00   1.0  0.022133  0.229508  0.433333  0.400000  0.195540   \n",
              "2013-12-31 20:00:00   1.0  0.018109  0.196721  0.433333  0.418182  0.203948   \n",
              "2013-12-31 21:00:00   1.0  0.023139  0.196721  0.433333  0.418182  0.213877   \n",
              "2013-12-31 22:00:00   1.0  0.020121  0.196721  0.416667  0.418182  0.222285   \n",
              "2013-12-31 23:00:00   1.0  0.023139  0.213115  0.433333  0.418182  0.234504   \n",
              "\n",
              "                           Is   Ir     month_sin  month_cos       day_sin  \\\n",
              "date                                                                        \n",
              "2010-01-02 00:00:00  0.000000  0.0  5.000000e-01   0.866025  3.943559e-01   \n",
              "2010-01-02 01:00:00  0.000000  0.0  5.000000e-01   0.866025  3.943559e-01   \n",
              "2010-01-02 02:00:00  0.000000  0.0  5.000000e-01   0.866025  3.943559e-01   \n",
              "2010-01-02 03:00:00  0.037037  0.0  5.000000e-01   0.866025  3.943559e-01   \n",
              "2010-01-02 04:00:00  0.074074  0.0  5.000000e-01   0.866025  3.943559e-01   \n",
              "...                       ...  ...           ...        ...           ...   \n",
              "2013-12-31 19:00:00  0.000000  0.0 -2.449294e-16   1.000000 -2.449294e-16   \n",
              "2013-12-31 20:00:00  0.000000  0.0 -2.449294e-16   1.000000 -2.449294e-16   \n",
              "2013-12-31 21:00:00  0.000000  0.0 -2.449294e-16   1.000000 -2.449294e-16   \n",
              "2013-12-31 22:00:00  0.000000  0.0 -2.449294e-16   1.000000 -2.449294e-16   \n",
              "2013-12-31 23:00:00  0.000000  0.0 -2.449294e-16   1.000000 -2.449294e-16   \n",
              "\n",
              "                      day_cos  dayofweek_sin  dayofweek_cos  hour_sin  \\\n",
              "date                                                                    \n",
              "2010-01-02 00:00:00  0.918958      -0.781831       0.623490  0.000000   \n",
              "2010-01-02 01:00:00  0.918958      -0.781831       0.623490  0.258819   \n",
              "2010-01-02 02:00:00  0.918958      -0.781831       0.623490  0.500000   \n",
              "2010-01-02 03:00:00  0.918958      -0.781831       0.623490  0.707107   \n",
              "2010-01-02 04:00:00  0.918958      -0.781831       0.623490  0.866025   \n",
              "...                       ...            ...            ...       ...   \n",
              "2013-12-31 19:00:00  1.000000       0.974928      -0.222521 -0.965926   \n",
              "2013-12-31 20:00:00  1.000000       0.974928      -0.222521 -0.866025   \n",
              "2013-12-31 21:00:00  1.000000       0.974928      -0.222521 -0.707107   \n",
              "2013-12-31 22:00:00  1.000000       0.974928      -0.222521 -0.500000   \n",
              "2013-12-31 23:00:00  1.000000       0.974928      -0.222521 -0.258819   \n",
              "\n",
              "                     hour_cos      cbwd_sin  cbwd_cos  \n",
              "date                                                   \n",
              "2010-01-02 00:00:00  1.000000  1.224647e-16      -1.0  \n",
              "2010-01-02 01:00:00  0.965926  1.224647e-16      -1.0  \n",
              "2010-01-02 02:00:00  0.866025  1.224647e-16      -1.0  \n",
              "2010-01-02 03:00:00  0.707107  1.224647e-16      -1.0  \n",
              "2010-01-02 04:00:00  0.500000  1.224647e-16      -1.0  \n",
              "...                       ...           ...       ...  \n",
              "2013-12-31 19:00:00  0.258819 -2.449294e-16       1.0  \n",
              "2013-12-31 20:00:00  0.500000 -2.449294e-16       1.0  \n",
              "2013-12-31 21:00:00  0.707107 -2.449294e-16       1.0  \n",
              "2013-12-31 22:00:00  0.866025 -2.449294e-16       1.0  \n",
              "2013-12-31 23:00:00  0.965926 -2.449294e-16       1.0  \n",
              "\n",
              "[35040 rows x 18 columns]"
            ],
            "text/html": [
              "\n",
              "  <div id=\"df-fb77481f-7c8f-4753-a4e1-b05cc3d5184e\" class=\"colab-df-container\">\n",
              "    <div>\n",
              "<style scoped>\n",
              "    .dataframe tbody tr th:only-of-type {\n",
              "        vertical-align: middle;\n",
              "    }\n",
              "\n",
              "    .dataframe tbody tr th {\n",
              "        vertical-align: top;\n",
              "    }\n",
              "\n",
              "    .dataframe thead th {\n",
              "        text-align: right;\n",
              "    }\n",
              "</style>\n",
              "<table border=\"1\" class=\"dataframe\">\n",
              "  <thead>\n",
              "    <tr style=\"text-align: right;\">\n",
              "      <th></th>\n",
              "      <th>year</th>\n",
              "      <th>pm2.5</th>\n",
              "      <th>DEWP</th>\n",
              "      <th>TEMP</th>\n",
              "      <th>PRES</th>\n",
              "      <th>Iws</th>\n",
              "      <th>Is</th>\n",
              "      <th>Ir</th>\n",
              "      <th>month_sin</th>\n",
              "      <th>month_cos</th>\n",
              "      <th>day_sin</th>\n",
              "      <th>day_cos</th>\n",
              "      <th>dayofweek_sin</th>\n",
              "      <th>dayofweek_cos</th>\n",
              "      <th>hour_sin</th>\n",
              "      <th>hour_cos</th>\n",
              "      <th>cbwd_sin</th>\n",
              "      <th>cbwd_cos</th>\n",
              "    </tr>\n",
              "    <tr>\n",
              "      <th>date</th>\n",
              "      <th></th>\n",
              "      <th></th>\n",
              "      <th></th>\n",
              "      <th></th>\n",
              "      <th></th>\n",
              "      <th></th>\n",
              "      <th></th>\n",
              "      <th></th>\n",
              "      <th></th>\n",
              "      <th></th>\n",
              "      <th></th>\n",
              "      <th></th>\n",
              "      <th></th>\n",
              "      <th></th>\n",
              "      <th></th>\n",
              "      <th></th>\n",
              "      <th></th>\n",
              "      <th></th>\n",
              "    </tr>\n",
              "  </thead>\n",
              "  <tbody>\n",
              "    <tr>\n",
              "      <th>2010-01-02 00:00:00</th>\n",
              "      <td>0.0</td>\n",
              "      <td>0.129779</td>\n",
              "      <td>0.278689</td>\n",
              "      <td>0.250000</td>\n",
              "      <td>0.527273</td>\n",
              "      <td>0.002290</td>\n",
              "      <td>0.000000</td>\n",
              "      <td>0.0</td>\n",
              "      <td>5.000000e-01</td>\n",
              "      <td>0.866025</td>\n",
              "      <td>3.943559e-01</td>\n",
              "      <td>0.918958</td>\n",
              "      <td>-0.781831</td>\n",
              "      <td>0.623490</td>\n",
              "      <td>0.000000</td>\n",
              "      <td>1.000000</td>\n",
              "      <td>1.224647e-16</td>\n",
              "      <td>-1.0</td>\n",
              "    </tr>\n",
              "    <tr>\n",
              "      <th>2010-01-02 01:00:00</th>\n",
              "      <td>0.0</td>\n",
              "      <td>0.148893</td>\n",
              "      <td>0.295082</td>\n",
              "      <td>0.250000</td>\n",
              "      <td>0.527273</td>\n",
              "      <td>0.003811</td>\n",
              "      <td>0.000000</td>\n",
              "      <td>0.0</td>\n",
              "      <td>5.000000e-01</td>\n",
              "      <td>0.866025</td>\n",
              "      <td>3.943559e-01</td>\n",
              "      <td>0.918958</td>\n",
              "      <td>-0.781831</td>\n",
              "      <td>0.623490</td>\n",
              "      <td>0.258819</td>\n",
              "      <td>0.965926</td>\n",
              "      <td>1.224647e-16</td>\n",
              "      <td>-1.0</td>\n",
              "    </tr>\n",
              "    <tr>\n",
              "      <th>2010-01-02 02:00:00</th>\n",
              "      <td>0.0</td>\n",
              "      <td>0.159960</td>\n",
              "      <td>0.360656</td>\n",
              "      <td>0.233333</td>\n",
              "      <td>0.545455</td>\n",
              "      <td>0.005332</td>\n",
              "      <td>0.000000</td>\n",
              "      <td>0.0</td>\n",
              "      <td>5.000000e-01</td>\n",
              "      <td>0.866025</td>\n",
              "      <td>3.943559e-01</td>\n",
              "      <td>0.918958</td>\n",
              "      <td>-0.781831</td>\n",
              "      <td>0.623490</td>\n",
              "      <td>0.500000</td>\n",
              "      <td>0.866025</td>\n",
              "      <td>1.224647e-16</td>\n",
              "      <td>-1.0</td>\n",
              "    </tr>\n",
              "    <tr>\n",
              "      <th>2010-01-02 03:00:00</th>\n",
              "      <td>0.0</td>\n",
              "      <td>0.182093</td>\n",
              "      <td>0.426230</td>\n",
              "      <td>0.233333</td>\n",
              "      <td>0.563636</td>\n",
              "      <td>0.008391</td>\n",
              "      <td>0.037037</td>\n",
              "      <td>0.0</td>\n",
              "      <td>5.000000e-01</td>\n",
              "      <td>0.866025</td>\n",
              "      <td>3.943559e-01</td>\n",
              "      <td>0.918958</td>\n",
              "      <td>-0.781831</td>\n",
              "      <td>0.623490</td>\n",
              "      <td>0.707107</td>\n",
              "      <td>0.707107</td>\n",
              "      <td>1.224647e-16</td>\n",
              "      <td>-1.0</td>\n",
              "    </tr>\n",
              "    <tr>\n",
              "      <th>2010-01-02 04:00:00</th>\n",
              "      <td>0.0</td>\n",
              "      <td>0.138833</td>\n",
              "      <td>0.426230</td>\n",
              "      <td>0.233333</td>\n",
              "      <td>0.563636</td>\n",
              "      <td>0.009912</td>\n",
              "      <td>0.074074</td>\n",
              "      <td>0.0</td>\n",
              "      <td>5.000000e-01</td>\n",
              "      <td>0.866025</td>\n",
              "      <td>3.943559e-01</td>\n",
              "      <td>0.918958</td>\n",
              "      <td>-0.781831</td>\n",
              "      <td>0.623490</td>\n",
              "      <td>0.866025</td>\n",
              "      <td>0.500000</td>\n",
              "      <td>1.224647e-16</td>\n",
              "      <td>-1.0</td>\n",
              "    </tr>\n",
              "    <tr>\n",
              "      <th>...</th>\n",
              "      <td>...</td>\n",
              "      <td>...</td>\n",
              "      <td>...</td>\n",
              "      <td>...</td>\n",
              "      <td>...</td>\n",
              "      <td>...</td>\n",
              "      <td>...</td>\n",
              "      <td>...</td>\n",
              "      <td>...</td>\n",
              "      <td>...</td>\n",
              "      <td>...</td>\n",
              "      <td>...</td>\n",
              "      <td>...</td>\n",
              "      <td>...</td>\n",
              "      <td>...</td>\n",
              "      <td>...</td>\n",
              "      <td>...</td>\n",
              "      <td>...</td>\n",
              "    </tr>\n",
              "    <tr>\n",
              "      <th>2013-12-31 19:00:00</th>\n",
              "      <td>1.0</td>\n",
              "      <td>0.022133</td>\n",
              "      <td>0.229508</td>\n",
              "      <td>0.433333</td>\n",
              "      <td>0.400000</td>\n",
              "      <td>0.195540</td>\n",
              "      <td>0.000000</td>\n",
              "      <td>0.0</td>\n",
              "      <td>-2.449294e-16</td>\n",
              "      <td>1.000000</td>\n",
              "      <td>-2.449294e-16</td>\n",
              "      <td>1.000000</td>\n",
              "      <td>0.974928</td>\n",
              "      <td>-0.222521</td>\n",
              "      <td>-0.965926</td>\n",
              "      <td>0.258819</td>\n",
              "      <td>-2.449294e-16</td>\n",
              "      <td>1.0</td>\n",
              "    </tr>\n",
              "    <tr>\n",
              "      <th>2013-12-31 20:00:00</th>\n",
              "      <td>1.0</td>\n",
              "      <td>0.018109</td>\n",
              "      <td>0.196721</td>\n",
              "      <td>0.433333</td>\n",
              "      <td>0.418182</td>\n",
              "      <td>0.203948</td>\n",
              "      <td>0.000000</td>\n",
              "      <td>0.0</td>\n",
              "      <td>-2.449294e-16</td>\n",
              "      <td>1.000000</td>\n",
              "      <td>-2.449294e-16</td>\n",
              "      <td>1.000000</td>\n",
              "      <td>0.974928</td>\n",
              "      <td>-0.222521</td>\n",
              "      <td>-0.866025</td>\n",
              "      <td>0.500000</td>\n",
              "      <td>-2.449294e-16</td>\n",
              "      <td>1.0</td>\n",
              "    </tr>\n",
              "    <tr>\n",
              "      <th>2013-12-31 21:00:00</th>\n",
              "      <td>1.0</td>\n",
              "      <td>0.023139</td>\n",
              "      <td>0.196721</td>\n",
              "      <td>0.433333</td>\n",
              "      <td>0.418182</td>\n",
              "      <td>0.213877</td>\n",
              "      <td>0.000000</td>\n",
              "      <td>0.0</td>\n",
              "      <td>-2.449294e-16</td>\n",
              "      <td>1.000000</td>\n",
              "      <td>-2.449294e-16</td>\n",
              "      <td>1.000000</td>\n",
              "      <td>0.974928</td>\n",
              "      <td>-0.222521</td>\n",
              "      <td>-0.707107</td>\n",
              "      <td>0.707107</td>\n",
              "      <td>-2.449294e-16</td>\n",
              "      <td>1.0</td>\n",
              "    </tr>\n",
              "    <tr>\n",
              "      <th>2013-12-31 22:00:00</th>\n",
              "      <td>1.0</td>\n",
              "      <td>0.020121</td>\n",
              "      <td>0.196721</td>\n",
              "      <td>0.416667</td>\n",
              "      <td>0.418182</td>\n",
              "      <td>0.222285</td>\n",
              "      <td>0.000000</td>\n",
              "      <td>0.0</td>\n",
              "      <td>-2.449294e-16</td>\n",
              "      <td>1.000000</td>\n",
              "      <td>-2.449294e-16</td>\n",
              "      <td>1.000000</td>\n",
              "      <td>0.974928</td>\n",
              "      <td>-0.222521</td>\n",
              "      <td>-0.500000</td>\n",
              "      <td>0.866025</td>\n",
              "      <td>-2.449294e-16</td>\n",
              "      <td>1.0</td>\n",
              "    </tr>\n",
              "    <tr>\n",
              "      <th>2013-12-31 23:00:00</th>\n",
              "      <td>1.0</td>\n",
              "      <td>0.023139</td>\n",
              "      <td>0.213115</td>\n",
              "      <td>0.433333</td>\n",
              "      <td>0.418182</td>\n",
              "      <td>0.234504</td>\n",
              "      <td>0.000000</td>\n",
              "      <td>0.0</td>\n",
              "      <td>-2.449294e-16</td>\n",
              "      <td>1.000000</td>\n",
              "      <td>-2.449294e-16</td>\n",
              "      <td>1.000000</td>\n",
              "      <td>0.974928</td>\n",
              "      <td>-0.222521</td>\n",
              "      <td>-0.258819</td>\n",
              "      <td>0.965926</td>\n",
              "      <td>-2.449294e-16</td>\n",
              "      <td>1.0</td>\n",
              "    </tr>\n",
              "  </tbody>\n",
              "</table>\n",
              "<p>35040 rows × 18 columns</p>\n",
              "</div>\n",
              "    <div class=\"colab-df-buttons\">\n",
              "\n",
              "  <div class=\"colab-df-container\">\n",
              "    <button class=\"colab-df-convert\" onclick=\"convertToInteractive('df-fb77481f-7c8f-4753-a4e1-b05cc3d5184e')\"\n",
              "            title=\"Convert this dataframe to an interactive table.\"\n",
              "            style=\"display:none;\">\n",
              "\n",
              "  <svg xmlns=\"http://www.w3.org/2000/svg\" height=\"24px\" viewBox=\"0 -960 960 960\">\n",
              "    <path d=\"M120-120v-720h720v720H120Zm60-500h600v-160H180v160Zm220 220h160v-160H400v160Zm0 220h160v-160H400v160ZM180-400h160v-160H180v160Zm440 0h160v-160H620v160ZM180-180h160v-160H180v160Zm440 0h160v-160H620v160Z\"/>\n",
              "  </svg>\n",
              "    </button>\n",
              "\n",
              "  <style>\n",
              "    .colab-df-container {\n",
              "      display:flex;\n",
              "      gap: 12px;\n",
              "    }\n",
              "\n",
              "    .colab-df-convert {\n",
              "      background-color: #E8F0FE;\n",
              "      border: none;\n",
              "      border-radius: 50%;\n",
              "      cursor: pointer;\n",
              "      display: none;\n",
              "      fill: #1967D2;\n",
              "      height: 32px;\n",
              "      padding: 0 0 0 0;\n",
              "      width: 32px;\n",
              "    }\n",
              "\n",
              "    .colab-df-convert:hover {\n",
              "      background-color: #E2EBFA;\n",
              "      box-shadow: 0px 1px 2px rgba(60, 64, 67, 0.3), 0px 1px 3px 1px rgba(60, 64, 67, 0.15);\n",
              "      fill: #174EA6;\n",
              "    }\n",
              "\n",
              "    .colab-df-buttons div {\n",
              "      margin-bottom: 4px;\n",
              "    }\n",
              "\n",
              "    [theme=dark] .colab-df-convert {\n",
              "      background-color: #3B4455;\n",
              "      fill: #D2E3FC;\n",
              "    }\n",
              "\n",
              "    [theme=dark] .colab-df-convert:hover {\n",
              "      background-color: #434B5C;\n",
              "      box-shadow: 0px 1px 3px 1px rgba(0, 0, 0, 0.15);\n",
              "      filter: drop-shadow(0px 1px 2px rgba(0, 0, 0, 0.3));\n",
              "      fill: #FFFFFF;\n",
              "    }\n",
              "  </style>\n",
              "\n",
              "    <script>\n",
              "      const buttonEl =\n",
              "        document.querySelector('#df-fb77481f-7c8f-4753-a4e1-b05cc3d5184e button.colab-df-convert');\n",
              "      buttonEl.style.display =\n",
              "        google.colab.kernel.accessAllowed ? 'block' : 'none';\n",
              "\n",
              "      async function convertToInteractive(key) {\n",
              "        const element = document.querySelector('#df-fb77481f-7c8f-4753-a4e1-b05cc3d5184e');\n",
              "        const dataTable =\n",
              "          await google.colab.kernel.invokeFunction('convertToInteractive',\n",
              "                                                    [key], {});\n",
              "        if (!dataTable) return;\n",
              "\n",
              "        const docLinkHtml = 'Like what you see? Visit the ' +\n",
              "          '<a target=\"_blank\" href=https://colab.research.google.com/notebooks/data_table.ipynb>data table notebook</a>'\n",
              "          + ' to learn more about interactive tables.';\n",
              "        element.innerHTML = '';\n",
              "        dataTable['output_type'] = 'display_data';\n",
              "        await google.colab.output.renderOutput(dataTable, element);\n",
              "        const docLink = document.createElement('div');\n",
              "        docLink.innerHTML = docLinkHtml;\n",
              "        element.appendChild(docLink);\n",
              "      }\n",
              "    </script>\n",
              "  </div>\n",
              "\n",
              "\n",
              "<div id=\"df-1c50372a-705c-47b1-9aba-6efce8d881d7\">\n",
              "  <button class=\"colab-df-quickchart\" onclick=\"quickchart('df-1c50372a-705c-47b1-9aba-6efce8d881d7')\"\n",
              "            title=\"Suggest charts\"\n",
              "            style=\"display:none;\">\n",
              "\n",
              "<svg xmlns=\"http://www.w3.org/2000/svg\" height=\"24px\"viewBox=\"0 0 24 24\"\n",
              "     width=\"24px\">\n",
              "    <g>\n",
              "        <path d=\"M19 3H5c-1.1 0-2 .9-2 2v14c0 1.1.9 2 2 2h14c1.1 0 2-.9 2-2V5c0-1.1-.9-2-2-2zM9 17H7v-7h2v7zm4 0h-2V7h2v10zm4 0h-2v-4h2v4z\"/>\n",
              "    </g>\n",
              "</svg>\n",
              "  </button>\n",
              "\n",
              "<style>\n",
              "  .colab-df-quickchart {\n",
              "      --bg-color: #E8F0FE;\n",
              "      --fill-color: #1967D2;\n",
              "      --hover-bg-color: #E2EBFA;\n",
              "      --hover-fill-color: #174EA6;\n",
              "      --disabled-fill-color: #AAA;\n",
              "      --disabled-bg-color: #DDD;\n",
              "  }\n",
              "\n",
              "  [theme=dark] .colab-df-quickchart {\n",
              "      --bg-color: #3B4455;\n",
              "      --fill-color: #D2E3FC;\n",
              "      --hover-bg-color: #434B5C;\n",
              "      --hover-fill-color: #FFFFFF;\n",
              "      --disabled-bg-color: #3B4455;\n",
              "      --disabled-fill-color: #666;\n",
              "  }\n",
              "\n",
              "  .colab-df-quickchart {\n",
              "    background-color: var(--bg-color);\n",
              "    border: none;\n",
              "    border-radius: 50%;\n",
              "    cursor: pointer;\n",
              "    display: none;\n",
              "    fill: var(--fill-color);\n",
              "    height: 32px;\n",
              "    padding: 0;\n",
              "    width: 32px;\n",
              "  }\n",
              "\n",
              "  .colab-df-quickchart:hover {\n",
              "    background-color: var(--hover-bg-color);\n",
              "    box-shadow: 0 1px 2px rgba(60, 64, 67, 0.3), 0 1px 3px 1px rgba(60, 64, 67, 0.15);\n",
              "    fill: var(--button-hover-fill-color);\n",
              "  }\n",
              "\n",
              "  .colab-df-quickchart-complete:disabled,\n",
              "  .colab-df-quickchart-complete:disabled:hover {\n",
              "    background-color: var(--disabled-bg-color);\n",
              "    fill: var(--disabled-fill-color);\n",
              "    box-shadow: none;\n",
              "  }\n",
              "\n",
              "  .colab-df-spinner {\n",
              "    border: 2px solid var(--fill-color);\n",
              "    border-color: transparent;\n",
              "    border-bottom-color: var(--fill-color);\n",
              "    animation:\n",
              "      spin 1s steps(1) infinite;\n",
              "  }\n",
              "\n",
              "  @keyframes spin {\n",
              "    0% {\n",
              "      border-color: transparent;\n",
              "      border-bottom-color: var(--fill-color);\n",
              "      border-left-color: var(--fill-color);\n",
              "    }\n",
              "    20% {\n",
              "      border-color: transparent;\n",
              "      border-left-color: var(--fill-color);\n",
              "      border-top-color: var(--fill-color);\n",
              "    }\n",
              "    30% {\n",
              "      border-color: transparent;\n",
              "      border-left-color: var(--fill-color);\n",
              "      border-top-color: var(--fill-color);\n",
              "      border-right-color: var(--fill-color);\n",
              "    }\n",
              "    40% {\n",
              "      border-color: transparent;\n",
              "      border-right-color: var(--fill-color);\n",
              "      border-top-color: var(--fill-color);\n",
              "    }\n",
              "    60% {\n",
              "      border-color: transparent;\n",
              "      border-right-color: var(--fill-color);\n",
              "    }\n",
              "    80% {\n",
              "      border-color: transparent;\n",
              "      border-right-color: var(--fill-color);\n",
              "      border-bottom-color: var(--fill-color);\n",
              "    }\n",
              "    90% {\n",
              "      border-color: transparent;\n",
              "      border-bottom-color: var(--fill-color);\n",
              "    }\n",
              "  }\n",
              "</style>\n",
              "\n",
              "  <script>\n",
              "    async function quickchart(key) {\n",
              "      const quickchartButtonEl =\n",
              "        document.querySelector('#' + key + ' button');\n",
              "      quickchartButtonEl.disabled = true;  // To prevent multiple clicks.\n",
              "      quickchartButtonEl.classList.add('colab-df-spinner');\n",
              "      try {\n",
              "        const charts = await google.colab.kernel.invokeFunction(\n",
              "            'suggestCharts', [key], {});\n",
              "      } catch (error) {\n",
              "        console.error('Error during call to suggestCharts:', error);\n",
              "      }\n",
              "      quickchartButtonEl.classList.remove('colab-df-spinner');\n",
              "      quickchartButtonEl.classList.add('colab-df-quickchart-complete');\n",
              "    }\n",
              "    (() => {\n",
              "      let quickchartButtonEl =\n",
              "        document.querySelector('#df-1c50372a-705c-47b1-9aba-6efce8d881d7 button');\n",
              "      quickchartButtonEl.style.display =\n",
              "        google.colab.kernel.accessAllowed ? 'block' : 'none';\n",
              "    })();\n",
              "  </script>\n",
              "</div>\n",
              "\n",
              "  <div id=\"id_e1f6cdef-d13e-43f3-85c7-eb38cf4c0f42\">\n",
              "    <style>\n",
              "      .colab-df-generate {\n",
              "        background-color: #E8F0FE;\n",
              "        border: none;\n",
              "        border-radius: 50%;\n",
              "        cursor: pointer;\n",
              "        display: none;\n",
              "        fill: #1967D2;\n",
              "        height: 32px;\n",
              "        padding: 0 0 0 0;\n",
              "        width: 32px;\n",
              "      }\n",
              "\n",
              "      .colab-df-generate:hover {\n",
              "        background-color: #E2EBFA;\n",
              "        box-shadow: 0px 1px 2px rgba(60, 64, 67, 0.3), 0px 1px 3px 1px rgba(60, 64, 67, 0.15);\n",
              "        fill: #174EA6;\n",
              "      }\n",
              "\n",
              "      [theme=dark] .colab-df-generate {\n",
              "        background-color: #3B4455;\n",
              "        fill: #D2E3FC;\n",
              "      }\n",
              "\n",
              "      [theme=dark] .colab-df-generate:hover {\n",
              "        background-color: #434B5C;\n",
              "        box-shadow: 0px 1px 3px 1px rgba(0, 0, 0, 0.15);\n",
              "        filter: drop-shadow(0px 1px 2px rgba(0, 0, 0, 0.3));\n",
              "        fill: #FFFFFF;\n",
              "      }\n",
              "    </style>\n",
              "    <button class=\"colab-df-generate\" onclick=\"generateWithVariable('X_train')\"\n",
              "            title=\"Generate code using this dataframe.\"\n",
              "            style=\"display:none;\">\n",
              "\n",
              "  <svg xmlns=\"http://www.w3.org/2000/svg\" height=\"24px\"viewBox=\"0 0 24 24\"\n",
              "       width=\"24px\">\n",
              "    <path d=\"M7,19H8.4L18.45,9,17,7.55,7,17.6ZM5,21V16.75L18.45,3.32a2,2,0,0,1,2.83,0l1.4,1.43a1.91,1.91,0,0,1,.58,1.4,1.91,1.91,0,0,1-.58,1.4L9.25,21ZM18.45,9,17,7.55Zm-12,3A5.31,5.31,0,0,0,4.9,8.1,5.31,5.31,0,0,0,1,6.5,5.31,5.31,0,0,0,4.9,4.9,5.31,5.31,0,0,0,6.5,1,5.31,5.31,0,0,0,8.1,4.9,5.31,5.31,0,0,0,12,6.5,5.46,5.46,0,0,0,6.5,12Z\"/>\n",
              "  </svg>\n",
              "    </button>\n",
              "    <script>\n",
              "      (() => {\n",
              "      const buttonEl =\n",
              "        document.querySelector('#id_e1f6cdef-d13e-43f3-85c7-eb38cf4c0f42 button.colab-df-generate');\n",
              "      buttonEl.style.display =\n",
              "        google.colab.kernel.accessAllowed ? 'block' : 'none';\n",
              "\n",
              "      buttonEl.onclick = () => {\n",
              "        google.colab.notebook.generateWithVariable('X_train');\n",
              "      }\n",
              "      })();\n",
              "    </script>\n",
              "  </div>\n",
              "\n",
              "    </div>\n",
              "  </div>\n"
            ],
            "application/vnd.google.colaboratory.intrinsic+json": {
              "type": "dataframe",
              "variable_name": "X_train",
              "summary": "{\n  \"name\": \"X_train\",\n  \"rows\": 35040,\n  \"fields\": [\n    {\n      \"column\": \"date\",\n      \"properties\": {\n        \"dtype\": \"date\",\n        \"min\": \"2010-01-02 00:00:00\",\n        \"max\": \"2013-12-31 23:00:00\",\n        \"num_unique_values\": 35040,\n        \"samples\": [\n          \"2011-04-20 04:00:00\",\n          \"2013-01-11 23:00:00\",\n          \"2010-04-13 21:00:00\"\n        ],\n        \"semantic_type\": \"\",\n        \"description\": \"\"\n      }\n    },\n    {\n      \"column\": \"year\",\n      \"properties\": {\n        \"dtype\": \"number\",\n        \"std\": 0.3724787683504493,\n        \"min\": 0.0,\n        \"max\": 1.0,\n        \"num_unique_values\": 4,\n        \"samples\": [\n          0.33333333333325754,\n          1.0,\n          0.0\n        ],\n        \"semantic_type\": \"\",\n        \"description\": \"\"\n      }\n    },\n    {\n      \"column\": \"pm2.5\",\n      \"properties\": {\n        \"dtype\": \"number\",\n        \"std\": 0.09132418605353863,\n        \"min\": 0.0,\n        \"max\": 1.0,\n        \"num_unique_values\": 563,\n        \"samples\": [\n          0.23038229376257546,\n          0.517102615694165,\n          0.23742454728370224\n        ],\n        \"semantic_type\": \"\",\n        \"description\": \"\"\n      }\n    },\n    {\n      \"column\": \"DEWP\",\n      \"properties\": {\n        \"dtype\": \"number\",\n        \"std\": 0.23762153266448383,\n        \"min\": 0.0,\n        \"max\": 1.0,\n        \"num_unique_values\": 62,\n        \"samples\": [\n          0.918032786885246,\n          0.08196721311475413,\n          0.27868852459016397\n        ],\n        \"semantic_type\": \"\",\n        \"description\": \"\"\n      }\n    },\n    {\n      \"column\": \"TEMP\",\n      \"properties\": {\n        \"dtype\": \"number\",\n        \"std\": 0.20511723136811075,\n        \"min\": 0.0,\n        \"max\": 1.0,\n        \"num_unique_values\": 61,\n        \"samples\": [\n          0.25,\n          0.16666666666666666,\n          0.8333333333333333\n        ],\n        \"semantic_type\": \"\",\n        \"description\": \"\"\n      }\n    },\n    {\n      \"column\": \"PRES\",\n      \"properties\": {\n        \"dtype\": \"number\",\n        \"std\": 0.18884008830497512,\n        \"min\": 0.0,\n        \"max\": 1.0,\n        \"num_unique_values\": 60,\n        \"samples\": [\n          0.5272727272727273,\n          0.6181818181818208,\n          0.20000000000000284\n        ],\n        \"semantic_type\": \"\",\n        \"description\": \"\"\n      }\n    },\n    {\n      \"column\": \"Iws\",\n      \"properties\": {\n        \"dtype\": \"number\",\n        \"std\": 0.0876967308367717,\n        \"min\": 0.0,\n        \"max\": 1.0000000000000002,\n        \"num_unique_values\": 2588,\n        \"samples\": [\n          0.4180637443390584,\n          0.37217807399812014,\n          0.6990002563445272\n        ],\n        \"semantic_type\": \"\",\n        \"description\": \"\"\n      }\n    },\n    {\n      \"column\": \"Is\",\n      \"properties\": {\n        \"dtype\": \"number\",\n        \"std\": 0.028660668741840638,\n        \"min\": 0.0,\n        \"max\": 1.0,\n        \"num_unique_values\": 28,\n        \"samples\": [\n          0.3333333333333333,\n          1.0,\n          0.2962962962962963\n        ],\n        \"semantic_type\": \"\",\n        \"description\": \"\"\n      }\n    },\n    {\n      \"column\": \"Ir\",\n      \"properties\": {\n        \"dtype\": \"number\",\n        \"std\": 0.04138689350038057,\n        \"min\": 0.0,\n        \"max\": 1.0,\n        \"num_unique_values\": 37,\n        \"samples\": [\n          0.4722222222222222,\n          0.3611111111111111,\n          0.1111111111111111\n        ],\n        \"semantic_type\": \"\",\n        \"description\": \"\"\n      }\n    },\n    {\n      \"column\": \"month_sin\",\n      \"properties\": {\n        \"dtype\": \"number\",\n        \"std\": 0.7058863721893363,\n        \"min\": -1.0,\n        \"max\": 1.0,\n        \"num_unique_values\": 11,\n        \"samples\": [\n          -0.4999999999999997,\n          0.49999999999999994,\n          -0.5000000000000004\n        ],\n        \"semantic_type\": \"\",\n        \"description\": \"\"\n      }\n    },\n    {\n      \"column\": \"month_cos\",\n      \"properties\": {\n        \"dtype\": \"number\",\n        \"std\": 0.7083217949201549,\n        \"min\": -1.0,\n        \"max\": 1.0,\n        \"num_unique_values\": 11,\n        \"samples\": [\n          -1.0,\n          0.8660254037844387,\n          0.8660254037844384\n        ],\n        \"semantic_type\": \"\",\n        \"description\": \"\"\n      }\n    },\n    {\n      \"column\": \"day_sin\",\n      \"properties\": {\n        \"dtype\": \"number\",\n        \"std\": 0.7135430947049936,\n        \"min\": -0.9987165071710528,\n        \"max\": 0.9987165071710528,\n        \"num_unique_values\": 31,\n        \"samples\": [\n          -0.3943558551133187,\n          -0.2993631229733582,\n          -0.9377521321470804\n        ],\n        \"semantic_type\": \"\",\n        \"description\": \"\"\n      }\n    },\n    {\n      \"column\": \"day_cos\",\n      \"properties\": {\n        \"dtype\": \"number\",\n        \"std\": 0.7003745459462211,\n        \"min\": -0.9948693233918952,\n        \"max\": 1.0,\n        \"num_unique_values\": 26,\n        \"samples\": [\n          -0.4403941515576344,\n          -0.7587581226927911,\n          0.9189578116202306\n        ],\n        \"semantic_type\": \"\",\n        \"description\": \"\"\n      }\n    },\n    {\n      \"column\": \"dayofweek_sin\",\n      \"properties\": {\n        \"dtype\": \"number\",\n        \"std\": 0.7072003422710045,\n        \"min\": -0.9749279121818236,\n        \"max\": 0.9749279121818236,\n        \"num_unique_values\": 7,\n        \"samples\": [\n          -0.7818314824680299,\n          -2.4492935982947064e-16,\n          -0.433883739117558\n        ],\n        \"semantic_type\": \"\",\n        \"description\": \"\"\n      }\n    },\n    {\n      \"column\": \"dayofweek_cos\",\n      \"properties\": {\n        \"dtype\": \"number\",\n        \"std\": 0.7070317155877475,\n        \"min\": -0.9009688679024191,\n        \"max\": 1.0,\n        \"num_unique_values\": 7,\n        \"samples\": [\n          0.6234898018587334,\n          1.0,\n          -0.9009688679024191\n        ],\n        \"semantic_type\": \"\",\n        \"description\": \"\"\n      }\n    },\n    {\n      \"column\": \"hour_sin\",\n      \"properties\": {\n        \"dtype\": \"number\",\n        \"std\": 0.7071168713965438,\n        \"min\": -1.0,\n        \"max\": 1.0,\n        \"num_unique_values\": 22,\n        \"samples\": [\n          0.0,\n          -0.7071067811865471,\n          0.7071067811865476\n        ],\n        \"semantic_type\": \"\",\n        \"description\": \"\"\n      }\n    },\n    {\n      \"column\": \"hour_cos\",\n      \"properties\": {\n        \"dtype\": \"number\",\n        \"std\": 0.7071168713965438,\n        \"min\": -1.0,\n        \"max\": 1.0,\n        \"num_unique_values\": 22,\n        \"samples\": [\n          1.0,\n          -0.9659258262890683,\n          -0.4999999999999998\n        ],\n        \"semantic_type\": \"\",\n        \"description\": \"\"\n      }\n    },\n    {\n      \"column\": \"cbwd_sin\",\n      \"properties\": {\n        \"dtype\": \"number\",\n        \"std\": 0.3177617185729906,\n        \"min\": -2.4492935982947064e-16,\n        \"max\": 1.0,\n        \"num_unique_values\": 4,\n        \"samples\": [\n          0.0,\n          1.0,\n          1.2246467991473532e-16\n        ],\n        \"semantic_type\": \"\",\n        \"description\": \"\"\n      }\n    },\n    {\n      \"column\": \"cbwd_cos\",\n      \"properties\": {\n        \"dtype\": \"number\",\n        \"std\": 0.8230804292331507,\n        \"min\": -1.0,\n        \"max\": 1.0,\n        \"num_unique_values\": 4,\n        \"samples\": [\n          0.0,\n          6.123233995736766e-17,\n          -1.0\n        ],\n        \"semantic_type\": \"\",\n        \"description\": \"\"\n      }\n    }\n  ]\n}"
            }
          },
          "metadata": {},
          "execution_count": 23
        }
      ],
      "source": [
        "X_train_norm"
      ]
    },
    {
      "cell_type": "code",
      "execution_count": 24,
      "metadata": {
        "ExecuteTime": {
          "end_time": "2019-05-02T15:26:03.164598Z",
          "start_time": "2019-05-02T15:26:03.159269Z"
        },
        "collapsed": true,
        "id": "awdYCF1wGMfl"
      },
      "outputs": [],
      "source": [
        "#Just in case to ensure we did everything right\n",
        "assert all(x==np.float64 for x in list(X_train_norm.dtypes))"
      ]
    },
    {
      "cell_type": "markdown",
      "metadata": {
        "id": "QBkvYlyaGMfn"
      },
      "source": [
        "It would be worth checking with some assertions that the manual normalizers work well. Let's leave it to later work."
      ]
    },
    {
      "cell_type": "markdown",
      "metadata": {
        "id": "ivS7sc-mGMfo"
      },
      "source": [
        "It is also worth noting, that the normalizers should be saved and used in production."
      ]
    },
    {
      "cell_type": "markdown",
      "metadata": {
        "id": "nMlkwHulGMfo"
      },
      "source": [
        "# Creating target (y) and \"windows\" (X) for modeling\n",
        "\n",
        "By default we use the next 24 hour value of \"pm2.5\" for prediction, that is, I would like to predict what the pm2.5 will be like **at this hour 24 hours from now.**\n",
        "\n",
        "We use the quite handy **seglearn** package for this."
      ]
    },
    {
      "cell_type": "markdown",
      "metadata": {
        "id": "lePzBPsfGMfo"
      },
      "source": [
        "Because of computational reasons, we **use the window of 100 hours** to predict. Classical models would have hard time to accommodate substantially (like 5-10x) context windows, LSTM-s would suffer from the challenge of long term memory. After a basic run of modeling the next big challenge would be to investigate PACF structure more and use eg. stateful LSTM modeling to try to accommodate the large \"lookback\".   "
      ]
    },
    {
      "cell_type": "code",
      "execution_count": 25,
      "metadata": {
        "ExecuteTime": {
          "end_time": "2019-05-02T15:26:03.169133Z",
          "start_time": "2019-05-02T15:26:03.165982Z"
        },
        "collapsed": true,
        "id": "GbL5vb0wGMfo"
      },
      "outputs": [],
      "source": [
        "TIME_WINDOW=100\n",
        "FORECAST_DISTANCE=24"
      ]
    },
    {
      "cell_type": "code",
      "execution_count": 26,
      "metadata": {
        "ExecuteTime": {
          "end_time": "2019-05-02T15:26:05.135398Z",
          "start_time": "2019-05-02T15:26:03.170483Z"
        },
        "collapsed": true,
        "id": "YqRRmsDJGMfo"
      },
      "outputs": [],
      "source": [
        "from seglearn.transform import FeatureRep, SegmentXYForecast, last\n",
        "\n",
        "segmenter = SegmentXYForecast(width=TIME_WINDOW, step=1, y_func=last, forecast=FORECAST_DISTANCE)\n",
        "\n",
        "X_train_rolled, y_train_rolled,_=segmenter.fit_transform([X_train_norm.values],[y_train_norm.flatten()])"
      ]
    },
    {
      "cell_type": "code",
      "execution_count": 27,
      "metadata": {
        "ExecuteTime": {
          "end_time": "2019-05-02T15:26:05.141218Z",
          "start_time": "2019-05-02T15:26:05.137116Z"
        },
        "collapsed": true,
        "id": "qdLaIezVGMfo",
        "colab": {
          "base_uri": "https://localhost:8080/"
        },
        "outputId": "056e15a0-8c1d-4b83-8eb7-c00a124ace12"
      },
      "outputs": [
        {
          "output_type": "execute_result",
          "data": {
            "text/plain": [
              "array([[[ 0.00000000e+00,  1.29778672e-01,  2.78688525e-01, ...,\n",
              "          1.00000000e+00,  1.22464680e-16, -1.00000000e+00],\n",
              "        [ 0.00000000e+00,  1.48893360e-01,  2.95081967e-01, ...,\n",
              "          9.65925826e-01,  1.22464680e-16, -1.00000000e+00],\n",
              "        [ 0.00000000e+00,  1.59959759e-01,  3.60655738e-01, ...,\n",
              "          8.66025404e-01,  1.22464680e-16, -1.00000000e+00],\n",
              "        ...,\n",
              "        [ 0.00000000e+00,  7.74647887e-02,  1.31147541e-01, ...,\n",
              "          9.65925826e-01,  1.00000000e+00,  6.12323400e-17],\n",
              "        [ 0.00000000e+00,  5.03018109e-02,  1.14754098e-01, ...,\n",
              "          8.66025404e-01,  1.00000000e+00,  6.12323400e-17],\n",
              "        [ 0.00000000e+00,  4.42655936e-02,  1.14754098e-01, ...,\n",
              "          7.07106781e-01,  1.00000000e+00,  6.12323400e-17]]])"
            ]
          },
          "metadata": {},
          "execution_count": 27
        }
      ],
      "source": [
        "X_train_rolled[:1]"
      ]
    },
    {
      "cell_type": "markdown",
      "metadata": {
        "id": "UNKje6V9GMfo"
      },
      "source": [
        "# For non-sequence models\n",
        "\n",
        "We have to \"flatten\" the data to be able to use classical, non-sequence regression models from Scikit.\n",
        "\n",
        "**We only need to do this for X, any transformation of y is unnecessary.**"
      ]
    },
    {
      "cell_type": "code",
      "execution_count": 28,
      "metadata": {
        "ExecuteTime": {
          "end_time": "2019-05-02T15:26:05.154555Z",
          "start_time": "2019-05-02T15:26:05.142809Z"
        },
        "collapsed": true,
        "id": "T9EY1XO2GMfo",
        "colab": {
          "base_uri": "https://localhost:8080/"
        },
        "outputId": "a7d4a110-4194-486b-ef4c-91af4c5d6c03"
      },
      "outputs": [
        {
          "output_type": "execute_result",
          "data": {
            "text/plain": [
              "(34917, 100, 18)"
            ]
          },
          "metadata": {},
          "execution_count": 28
        }
      ],
      "source": [
        "X_train_rolled.shape"
      ]
    },
    {
      "cell_type": "code",
      "execution_count": 29,
      "metadata": {
        "ExecuteTime": {
          "end_time": "2019-05-02T15:26:05.161443Z",
          "start_time": "2019-05-02T15:26:05.156594Z"
        },
        "collapsed": true,
        "id": "zzL-mYisGMfo",
        "colab": {
          "base_uri": "https://localhost:8080/"
        },
        "outputId": "425542c2-cc3f-470d-a46f-2f48535bf339"
      },
      "outputs": [
        {
          "output_type": "execute_result",
          "data": {
            "text/plain": [
              "(34917, 1800)"
            ]
          },
          "metadata": {},
          "execution_count": 29
        }
      ],
      "source": [
        "shape = X_train_rolled.shape\n",
        "X_train_flattened = X_train_rolled.reshape(shape[0],shape[1]*shape[2])\n",
        "X_train_flattened.shape"
      ]
    },
    {
      "cell_type": "code",
      "execution_count": 30,
      "metadata": {
        "ExecuteTime": {
          "end_time": "2019-05-02T15:26:05.405298Z",
          "start_time": "2019-05-02T15:26:05.163304Z"
        },
        "collapsed": true,
        "id": "wnL2VEVzGMfo"
      },
      "outputs": [],
      "source": [
        "X_valid_rolled, y_valid_rolled,_=segmenter.fit_transform([X_valid_norm.values],[y_valid_norm.flatten()])\n",
        "\n",
        "shape = X_valid_rolled.shape\n",
        "X_valid_flattened = X_valid_rolled.reshape(shape[0],shape[1]*shape[2])"
      ]
    },
    {
      "cell_type": "markdown",
      "metadata": {
        "id": "3T3fl7X-GMfo"
      },
      "source": [
        "# Evaluation helper\n",
        "\n",
        "Use this function to evaluate your models **on validation data.**\n",
        "\n",
        "This assumes that your model has the `predict()` function, which is true for **Scikit-learn, XGBoost** and **Keras**, so you can can hand over any of those.\n",
        "\n",
        "A special issue by models optimized by iterative methods is to **get the final model**. **Early stopping and / or model save and reload** can help there.  \n",
        "\n",
        "**WARNING: This is just a basic evaluation scheme, more thorough investigation needed in the future!**"
      ]
    },
    {
      "cell_type": "code",
      "execution_count": 31,
      "metadata": {
        "ExecuteTime": {
          "end_time": "2019-05-02T15:26:05.414032Z",
          "start_time": "2019-05-02T15:26:05.407874Z"
        },
        "collapsed": true,
        "id": "l00CHXVRGMfo"
      },
      "outputs": [],
      "source": [
        "from sklearn.metrics import mean_squared_error\n",
        "from math import sqrt\n",
        "\n",
        "def evaluate_model(model, X_valid, y_valid_true):\n",
        "    predictions = model.predict(X_valid)\n",
        "    rms = sqrt(mean_squared_error(y_valid_true, predictions))\n",
        "    print(\"Root mean squared error on valid:\",rms)\n",
        "    normalized_rms = normalizers[\"pm2.5\"].inverse_transform(np.array([rms]).reshape(1, -1))[0][0]\n",
        "    print(\"Root mean squared error on valid inverse transformed from normalization:\",normalized_rms)\n",
        "    return normalized_rms"
      ]
    },
    {
      "cell_type": "markdown",
      "metadata": {
        "id": "U_aLSjbNGMfo"
      },
      "source": [
        "# Classical modeling\n",
        "\n",
        "In \"classical\" modeling we assume a multiple regression case, so we **DO NOT USE time series as such, but the \"flat\" versions of the data** as input. Output is the same."
      ]
    },
    {
      "cell_type": "markdown",
      "metadata": {
        "id": "5Fd4nyLFGMfo"
      },
      "source": [
        "## Baseline - DummyPredictor\n",
        "\n",
        "**TASK Create a dummy predictor as a baseline. Use Scikit-learn's builtin capability to do dummy models in regression case. Use the default setting, that is the prediction of the mean value.**"
      ]
    },
    {
      "cell_type": "code",
      "execution_count": 32,
      "metadata": {
        "ExecuteTime": {
          "end_time": "2019-05-02T15:26:05.425330Z",
          "start_time": "2019-05-02T15:26:05.416635Z"
        },
        "collapsed": true,
        "id": "GT-FuO6sGMfo",
        "colab": {
          "base_uri": "https://localhost:8080/",
          "height": 74
        },
        "outputId": "e47d66fe-f5fb-43d5-ec89-2fa7c83fd8e0"
      },
      "outputs": [
        {
          "output_type": "execute_result",
          "data": {
            "text/plain": [
              "DummyRegressor()"
            ],
            "text/html": [
              "<style>#sk-container-id-1 {color: black;}#sk-container-id-1 pre{padding: 0;}#sk-container-id-1 div.sk-toggleable {background-color: white;}#sk-container-id-1 label.sk-toggleable__label {cursor: pointer;display: block;width: 100%;margin-bottom: 0;padding: 0.3em;box-sizing: border-box;text-align: center;}#sk-container-id-1 label.sk-toggleable__label-arrow:before {content: \"▸\";float: left;margin-right: 0.25em;color: #696969;}#sk-container-id-1 label.sk-toggleable__label-arrow:hover:before {color: black;}#sk-container-id-1 div.sk-estimator:hover label.sk-toggleable__label-arrow:before {color: black;}#sk-container-id-1 div.sk-toggleable__content {max-height: 0;max-width: 0;overflow: hidden;text-align: left;background-color: #f0f8ff;}#sk-container-id-1 div.sk-toggleable__content pre {margin: 0.2em;color: black;border-radius: 0.25em;background-color: #f0f8ff;}#sk-container-id-1 input.sk-toggleable__control:checked~div.sk-toggleable__content {max-height: 200px;max-width: 100%;overflow: auto;}#sk-container-id-1 input.sk-toggleable__control:checked~label.sk-toggleable__label-arrow:before {content: \"▾\";}#sk-container-id-1 div.sk-estimator input.sk-toggleable__control:checked~label.sk-toggleable__label {background-color: #d4ebff;}#sk-container-id-1 div.sk-label input.sk-toggleable__control:checked~label.sk-toggleable__label {background-color: #d4ebff;}#sk-container-id-1 input.sk-hidden--visually {border: 0;clip: rect(1px 1px 1px 1px);clip: rect(1px, 1px, 1px, 1px);height: 1px;margin: -1px;overflow: hidden;padding: 0;position: absolute;width: 1px;}#sk-container-id-1 div.sk-estimator {font-family: monospace;background-color: #f0f8ff;border: 1px dotted black;border-radius: 0.25em;box-sizing: border-box;margin-bottom: 0.5em;}#sk-container-id-1 div.sk-estimator:hover {background-color: #d4ebff;}#sk-container-id-1 div.sk-parallel-item::after {content: \"\";width: 100%;border-bottom: 1px solid gray;flex-grow: 1;}#sk-container-id-1 div.sk-label:hover label.sk-toggleable__label {background-color: #d4ebff;}#sk-container-id-1 div.sk-serial::before {content: \"\";position: absolute;border-left: 1px solid gray;box-sizing: border-box;top: 0;bottom: 0;left: 50%;z-index: 0;}#sk-container-id-1 div.sk-serial {display: flex;flex-direction: column;align-items: center;background-color: white;padding-right: 0.2em;padding-left: 0.2em;position: relative;}#sk-container-id-1 div.sk-item {position: relative;z-index: 1;}#sk-container-id-1 div.sk-parallel {display: flex;align-items: stretch;justify-content: center;background-color: white;position: relative;}#sk-container-id-1 div.sk-item::before, #sk-container-id-1 div.sk-parallel-item::before {content: \"\";position: absolute;border-left: 1px solid gray;box-sizing: border-box;top: 0;bottom: 0;left: 50%;z-index: -1;}#sk-container-id-1 div.sk-parallel-item {display: flex;flex-direction: column;z-index: 1;position: relative;background-color: white;}#sk-container-id-1 div.sk-parallel-item:first-child::after {align-self: flex-end;width: 50%;}#sk-container-id-1 div.sk-parallel-item:last-child::after {align-self: flex-start;width: 50%;}#sk-container-id-1 div.sk-parallel-item:only-child::after {width: 0;}#sk-container-id-1 div.sk-dashed-wrapped {border: 1px dashed gray;margin: 0 0.4em 0.5em 0.4em;box-sizing: border-box;padding-bottom: 0.4em;background-color: white;}#sk-container-id-1 div.sk-label label {font-family: monospace;font-weight: bold;display: inline-block;line-height: 1.2em;}#sk-container-id-1 div.sk-label-container {text-align: center;}#sk-container-id-1 div.sk-container {/* jupyter's `normalize.less` sets `[hidden] { display: none; }` but bootstrap.min.css set `[hidden] { display: none !important; }` so we also need the `!important` here to be able to override the default hidden behavior on the sphinx rendered scikit-learn.org. See: https://github.com/scikit-learn/scikit-learn/issues/21755 */display: inline-block !important;position: relative;}#sk-container-id-1 div.sk-text-repr-fallback {display: none;}</style><div id=\"sk-container-id-1\" class=\"sk-top-container\"><div class=\"sk-text-repr-fallback\"><pre>DummyRegressor()</pre><b>In a Jupyter environment, please rerun this cell to show the HTML representation or trust the notebook. <br />On GitHub, the HTML representation is unable to render, please try loading this page with nbviewer.org.</b></div><div class=\"sk-container\" hidden><div class=\"sk-item\"><div class=\"sk-estimator sk-toggleable\"><input class=\"sk-toggleable__control sk-hidden--visually\" id=\"sk-estimator-id-1\" type=\"checkbox\" checked><label for=\"sk-estimator-id-1\" class=\"sk-toggleable__label sk-toggleable__label-arrow\">DummyRegressor</label><div class=\"sk-toggleable__content\"><pre>DummyRegressor()</pre></div></div></div></div></div>"
            ]
          },
          "metadata": {},
          "execution_count": 32
        }
      ],
      "source": [
        "from sklearn.dummy import DummyRegressor\n",
        "\n",
        "dummy_model = DummyRegressor(strategy=\"mean\")\n",
        "\n",
        "dummy_model.fit(X_train_flattened, y_train_rolled)"
      ]
    },
    {
      "cell_type": "markdown",
      "metadata": {
        "id": "ufbiRMZFGMfo"
      },
      "source": [
        "### Evaluation"
      ]
    },
    {
      "cell_type": "code",
      "execution_count": 33,
      "metadata": {
        "ExecuteTime": {
          "end_time": "2019-05-02T15:26:05.433386Z",
          "start_time": "2019-05-02T15:26:05.428185Z"
        },
        "collapsed": true,
        "id": "UGlemeIsGMfo",
        "colab": {
          "base_uri": "https://localhost:8080/"
        },
        "outputId": "1b606501-cddc-4604-c053-cd28a80f470f"
      },
      "outputs": [
        {
          "output_type": "stream",
          "name": "stdout",
          "text": [
            "Root mean squared error on valid: 0.0986950073704243\n",
            "Root mean squared error on valid inverse transformed from normalization: 98.10283732620175\n"
          ]
        }
      ],
      "source": [
        "result = evaluate_model(dummy_model,X_valid_flattened,y_valid_rolled)"
      ]
    },
    {
      "cell_type": "markdown",
      "metadata": {
        "id": "tYIB-aI_GMfo"
      },
      "source": [
        "## Fitting a RandomForest on raw data\n",
        "\n",
        "**TASK: Fit a RandomForest from Scikit. Please be aware, that the number of trees in the model is having a strong influence on training time.**\n",
        "\n",
        "**Suggestion:** use couple of tens of trees, definitely << 100 to be able to wait it out...\n",
        "\n",
        "**Pro tip:** To utilize all the CPU cores, use the right setting of n_jobs. That speeds things up."
      ]
    },
    {
      "cell_type": "code",
      "execution_count": 34,
      "metadata": {
        "ExecuteTime": {
          "end_time": "2019-05-02T15:26:05.455678Z",
          "start_time": "2019-05-02T15:26:05.436188Z"
        },
        "collapsed": true,
        "id": "8YGMNifyGMfo"
      },
      "outputs": [],
      "source": [
        "from sklearn.ensemble import RandomForestRegressor\n",
        "\n",
        "N_ESTIMATORS = 50\n",
        "RANDOM_STATE = 452543634"
      ]
    },
    {
      "cell_type": "code",
      "execution_count": 35,
      "metadata": {
        "ExecuteTime": {
          "end_time": "2019-05-02T15:31:10.504738Z",
          "start_time": "2019-05-02T15:26:05.457739Z"
        },
        "collapsed": true,
        "id": "KT8HtLeWGMfo",
        "colab": {
          "base_uri": "https://localhost:8080/",
          "height": 74
        },
        "outputId": "2807b9af-607d-47c9-b5df-d907b4761837"
      },
      "outputs": [
        {
          "output_type": "execute_result",
          "data": {
            "text/plain": [
              "RandomForestRegressor(n_estimators=50, n_jobs=-1, random_state=452543634)"
            ],
            "text/html": [
              "<style>#sk-container-id-2 {color: black;}#sk-container-id-2 pre{padding: 0;}#sk-container-id-2 div.sk-toggleable {background-color: white;}#sk-container-id-2 label.sk-toggleable__label {cursor: pointer;display: block;width: 100%;margin-bottom: 0;padding: 0.3em;box-sizing: border-box;text-align: center;}#sk-container-id-2 label.sk-toggleable__label-arrow:before {content: \"▸\";float: left;margin-right: 0.25em;color: #696969;}#sk-container-id-2 label.sk-toggleable__label-arrow:hover:before {color: black;}#sk-container-id-2 div.sk-estimator:hover label.sk-toggleable__label-arrow:before {color: black;}#sk-container-id-2 div.sk-toggleable__content {max-height: 0;max-width: 0;overflow: hidden;text-align: left;background-color: #f0f8ff;}#sk-container-id-2 div.sk-toggleable__content pre {margin: 0.2em;color: black;border-radius: 0.25em;background-color: #f0f8ff;}#sk-container-id-2 input.sk-toggleable__control:checked~div.sk-toggleable__content {max-height: 200px;max-width: 100%;overflow: auto;}#sk-container-id-2 input.sk-toggleable__control:checked~label.sk-toggleable__label-arrow:before {content: \"▾\";}#sk-container-id-2 div.sk-estimator input.sk-toggleable__control:checked~label.sk-toggleable__label {background-color: #d4ebff;}#sk-container-id-2 div.sk-label input.sk-toggleable__control:checked~label.sk-toggleable__label {background-color: #d4ebff;}#sk-container-id-2 input.sk-hidden--visually {border: 0;clip: rect(1px 1px 1px 1px);clip: rect(1px, 1px, 1px, 1px);height: 1px;margin: -1px;overflow: hidden;padding: 0;position: absolute;width: 1px;}#sk-container-id-2 div.sk-estimator {font-family: monospace;background-color: #f0f8ff;border: 1px dotted black;border-radius: 0.25em;box-sizing: border-box;margin-bottom: 0.5em;}#sk-container-id-2 div.sk-estimator:hover {background-color: #d4ebff;}#sk-container-id-2 div.sk-parallel-item::after {content: \"\";width: 100%;border-bottom: 1px solid gray;flex-grow: 1;}#sk-container-id-2 div.sk-label:hover label.sk-toggleable__label {background-color: #d4ebff;}#sk-container-id-2 div.sk-serial::before {content: \"\";position: absolute;border-left: 1px solid gray;box-sizing: border-box;top: 0;bottom: 0;left: 50%;z-index: 0;}#sk-container-id-2 div.sk-serial {display: flex;flex-direction: column;align-items: center;background-color: white;padding-right: 0.2em;padding-left: 0.2em;position: relative;}#sk-container-id-2 div.sk-item {position: relative;z-index: 1;}#sk-container-id-2 div.sk-parallel {display: flex;align-items: stretch;justify-content: center;background-color: white;position: relative;}#sk-container-id-2 div.sk-item::before, #sk-container-id-2 div.sk-parallel-item::before {content: \"\";position: absolute;border-left: 1px solid gray;box-sizing: border-box;top: 0;bottom: 0;left: 50%;z-index: -1;}#sk-container-id-2 div.sk-parallel-item {display: flex;flex-direction: column;z-index: 1;position: relative;background-color: white;}#sk-container-id-2 div.sk-parallel-item:first-child::after {align-self: flex-end;width: 50%;}#sk-container-id-2 div.sk-parallel-item:last-child::after {align-self: flex-start;width: 50%;}#sk-container-id-2 div.sk-parallel-item:only-child::after {width: 0;}#sk-container-id-2 div.sk-dashed-wrapped {border: 1px dashed gray;margin: 0 0.4em 0.5em 0.4em;box-sizing: border-box;padding-bottom: 0.4em;background-color: white;}#sk-container-id-2 div.sk-label label {font-family: monospace;font-weight: bold;display: inline-block;line-height: 1.2em;}#sk-container-id-2 div.sk-label-container {text-align: center;}#sk-container-id-2 div.sk-container {/* jupyter's `normalize.less` sets `[hidden] { display: none; }` but bootstrap.min.css set `[hidden] { display: none !important; }` so we also need the `!important` here to be able to override the default hidden behavior on the sphinx rendered scikit-learn.org. See: https://github.com/scikit-learn/scikit-learn/issues/21755 */display: inline-block !important;position: relative;}#sk-container-id-2 div.sk-text-repr-fallback {display: none;}</style><div id=\"sk-container-id-2\" class=\"sk-top-container\"><div class=\"sk-text-repr-fallback\"><pre>RandomForestRegressor(n_estimators=50, n_jobs=-1, random_state=452543634)</pre><b>In a Jupyter environment, please rerun this cell to show the HTML representation or trust the notebook. <br />On GitHub, the HTML representation is unable to render, please try loading this page with nbviewer.org.</b></div><div class=\"sk-container\" hidden><div class=\"sk-item\"><div class=\"sk-estimator sk-toggleable\"><input class=\"sk-toggleable__control sk-hidden--visually\" id=\"sk-estimator-id-2\" type=\"checkbox\" checked><label for=\"sk-estimator-id-2\" class=\"sk-toggleable__label sk-toggleable__label-arrow\">RandomForestRegressor</label><div class=\"sk-toggleable__content\"><pre>RandomForestRegressor(n_estimators=50, n_jobs=-1, random_state=452543634)</pre></div></div></div></div></div>"
            ]
          },
          "metadata": {},
          "execution_count": 35
        }
      ],
      "source": [
        "RF_base_model = RandomForestRegressor(n_estimators=N_ESTIMATORS,random_state=RANDOM_STATE,n_jobs=-1)\n",
        "\n",
        "RF_base_model.fit(X_train_flattened,y_train_rolled)"
      ]
    },
    {
      "cell_type": "markdown",
      "metadata": {
        "id": "TISfQeCMGMfp"
      },
      "source": [
        "### Evaluation\n"
      ]
    },
    {
      "cell_type": "code",
      "execution_count": 36,
      "metadata": {
        "ExecuteTime": {
          "end_time": "2019-05-02T15:31:10.647413Z",
          "start_time": "2019-05-02T15:31:10.507882Z"
        },
        "collapsed": true,
        "id": "69plM5FUGMfp",
        "colab": {
          "base_uri": "https://localhost:8080/"
        },
        "outputId": "53ba54fe-3a9d-48be-f5c7-81470459e833"
      },
      "outputs": [
        {
          "output_type": "stream",
          "name": "stdout",
          "text": [
            "Root mean squared error on valid: 0.08772496260789635\n",
            "Root mean squared error on valid inverse transformed from normalization: 87.19861283224897\n"
          ]
        }
      ],
      "source": [
        "result = evaluate_model(RF_base_model,X_valid_flattened,y_valid_rolled)"
      ]
    },
    {
      "cell_type": "markdown",
      "metadata": {
        "id": "yyj9JrG1GMfp"
      },
      "source": [
        "## Fitting a RandomForest on feature transformed data\n",
        "\n",
        "**TASK: Since we use `seglearn`, we can try to capitalize on it's functionality to calculate features from the time time series. Use `FeatureRep` from `seglearn` to transform features, fit a RandomForest and hope for the best!**"
      ]
    },
    {
      "cell_type": "code",
      "execution_count": 37,
      "metadata": {
        "ExecuteTime": {
          "end_time": "2019-05-02T15:32:02.592160Z",
          "start_time": "2019-05-02T15:31:10.654979Z"
        },
        "collapsed": true,
        "id": "3CNmbm8LGMfp",
        "colab": {
          "base_uri": "https://localhost:8080/",
          "height": 74
        },
        "outputId": "c13d4064-a6e0-4d21-d44f-2f41d5039924"
      },
      "outputs": [
        {
          "output_type": "execute_result",
          "data": {
            "text/plain": [
              "RandomForestRegressor(n_estimators=50, n_jobs=-1, random_state=452543634)"
            ],
            "text/html": [
              "<style>#sk-container-id-3 {color: black;}#sk-container-id-3 pre{padding: 0;}#sk-container-id-3 div.sk-toggleable {background-color: white;}#sk-container-id-3 label.sk-toggleable__label {cursor: pointer;display: block;width: 100%;margin-bottom: 0;padding: 0.3em;box-sizing: border-box;text-align: center;}#sk-container-id-3 label.sk-toggleable__label-arrow:before {content: \"▸\";float: left;margin-right: 0.25em;color: #696969;}#sk-container-id-3 label.sk-toggleable__label-arrow:hover:before {color: black;}#sk-container-id-3 div.sk-estimator:hover label.sk-toggleable__label-arrow:before {color: black;}#sk-container-id-3 div.sk-toggleable__content {max-height: 0;max-width: 0;overflow: hidden;text-align: left;background-color: #f0f8ff;}#sk-container-id-3 div.sk-toggleable__content pre {margin: 0.2em;color: black;border-radius: 0.25em;background-color: #f0f8ff;}#sk-container-id-3 input.sk-toggleable__control:checked~div.sk-toggleable__content {max-height: 200px;max-width: 100%;overflow: auto;}#sk-container-id-3 input.sk-toggleable__control:checked~label.sk-toggleable__label-arrow:before {content: \"▾\";}#sk-container-id-3 div.sk-estimator input.sk-toggleable__control:checked~label.sk-toggleable__label {background-color: #d4ebff;}#sk-container-id-3 div.sk-label input.sk-toggleable__control:checked~label.sk-toggleable__label {background-color: #d4ebff;}#sk-container-id-3 input.sk-hidden--visually {border: 0;clip: rect(1px 1px 1px 1px);clip: rect(1px, 1px, 1px, 1px);height: 1px;margin: -1px;overflow: hidden;padding: 0;position: absolute;width: 1px;}#sk-container-id-3 div.sk-estimator {font-family: monospace;background-color: #f0f8ff;border: 1px dotted black;border-radius: 0.25em;box-sizing: border-box;margin-bottom: 0.5em;}#sk-container-id-3 div.sk-estimator:hover {background-color: #d4ebff;}#sk-container-id-3 div.sk-parallel-item::after {content: \"\";width: 100%;border-bottom: 1px solid gray;flex-grow: 1;}#sk-container-id-3 div.sk-label:hover label.sk-toggleable__label {background-color: #d4ebff;}#sk-container-id-3 div.sk-serial::before {content: \"\";position: absolute;border-left: 1px solid gray;box-sizing: border-box;top: 0;bottom: 0;left: 50%;z-index: 0;}#sk-container-id-3 div.sk-serial {display: flex;flex-direction: column;align-items: center;background-color: white;padding-right: 0.2em;padding-left: 0.2em;position: relative;}#sk-container-id-3 div.sk-item {position: relative;z-index: 1;}#sk-container-id-3 div.sk-parallel {display: flex;align-items: stretch;justify-content: center;background-color: white;position: relative;}#sk-container-id-3 div.sk-item::before, #sk-container-id-3 div.sk-parallel-item::before {content: \"\";position: absolute;border-left: 1px solid gray;box-sizing: border-box;top: 0;bottom: 0;left: 50%;z-index: -1;}#sk-container-id-3 div.sk-parallel-item {display: flex;flex-direction: column;z-index: 1;position: relative;background-color: white;}#sk-container-id-3 div.sk-parallel-item:first-child::after {align-self: flex-end;width: 50%;}#sk-container-id-3 div.sk-parallel-item:last-child::after {align-self: flex-start;width: 50%;}#sk-container-id-3 div.sk-parallel-item:only-child::after {width: 0;}#sk-container-id-3 div.sk-dashed-wrapped {border: 1px dashed gray;margin: 0 0.4em 0.5em 0.4em;box-sizing: border-box;padding-bottom: 0.4em;background-color: white;}#sk-container-id-3 div.sk-label label {font-family: monospace;font-weight: bold;display: inline-block;line-height: 1.2em;}#sk-container-id-3 div.sk-label-container {text-align: center;}#sk-container-id-3 div.sk-container {/* jupyter's `normalize.less` sets `[hidden] { display: none; }` but bootstrap.min.css set `[hidden] { display: none !important; }` so we also need the `!important` here to be able to override the default hidden behavior on the sphinx rendered scikit-learn.org. See: https://github.com/scikit-learn/scikit-learn/issues/21755 */display: inline-block !important;position: relative;}#sk-container-id-3 div.sk-text-repr-fallback {display: none;}</style><div id=\"sk-container-id-3\" class=\"sk-top-container\"><div class=\"sk-text-repr-fallback\"><pre>RandomForestRegressor(n_estimators=50, n_jobs=-1, random_state=452543634)</pre><b>In a Jupyter environment, please rerun this cell to show the HTML representation or trust the notebook. <br />On GitHub, the HTML representation is unable to render, please try loading this page with nbviewer.org.</b></div><div class=\"sk-container\" hidden><div class=\"sk-item\"><div class=\"sk-estimator sk-toggleable\"><input class=\"sk-toggleable__control sk-hidden--visually\" id=\"sk-estimator-id-3\" type=\"checkbox\" checked><label for=\"sk-estimator-id-3\" class=\"sk-toggleable__label sk-toggleable__label-arrow\">RandomForestRegressor</label><div class=\"sk-toggleable__content\"><pre>RandomForestRegressor(n_estimators=50, n_jobs=-1, random_state=452543634)</pre></div></div></div></div></div>"
            ]
          },
          "metadata": {},
          "execution_count": 37
        }
      ],
      "source": [
        "from seglearn.transform import FeatureRep\n",
        "\n",
        "RF_feature_model = RandomForestRegressor(n_estimators=N_ESTIMATORS, random_state=RANDOM_STATE, n_jobs=-1)\n",
        "\n",
        "feature_converter = FeatureRep()\n",
        "X_train_transformed = feature_converter.fit_transform(X_train_flattened)\n",
        "X_valid_transformed = feature_converter.transform(X_valid_flattened)\n",
        "X_train_transformed = pd.DataFrame(X_train_transformed)\n",
        "X_valid_transformed = pd.DataFrame(X_valid_transformed)\n",
        "X_train_transformed = X_train_transformed.dropna(axis=1)\n",
        "X_valid_transformed = X_valid_transformed.dropna(axis=1)\n",
        "# Be aware, that NA-s can get into the dataset by the transformation,\n",
        "# which will cause Scikit to fail\n",
        "# Suggestion: 1. transform data 2. cast it back to DataFrame 3. drop COLUMNS with NA-s\n",
        "\n",
        "RF_feature_model.fit(X_train_transformed, y_train_rolled)"
      ]
    },
    {
      "cell_type": "markdown",
      "metadata": {
        "id": "PKde8KJuGMfp"
      },
      "source": [
        "### Evaluation\n",
        "\n",
        "WARNING: This is just a basic evaluation scheme, more thorough investigation needed!"
      ]
    },
    {
      "cell_type": "code",
      "execution_count": 38,
      "metadata": {
        "ExecuteTime": {
          "end_time": "2019-05-02T15:32:04.242528Z",
          "start_time": "2019-05-02T15:32:02.598939Z"
        },
        "collapsed": true,
        "id": "l9mT4efAGMfp",
        "colab": {
          "base_uri": "https://localhost:8080/"
        },
        "outputId": "33f55e70-2dbd-4966-8e2d-a5b4db0bbb8c"
      },
      "outputs": [
        {
          "output_type": "stream",
          "name": "stdout",
          "text": [
            "Root mean squared error on valid: 0.10374702578150075\n",
            "Root mean squared error on valid inverse transformed from normalization: 103.12454362681173\n"
          ]
        }
      ],
      "source": [
        "result = evaluate_model(RF_feature_model, X_valid_transformed ,y_valid_rolled)"
      ]
    },
    {
      "cell_type": "markdown",
      "metadata": {
        "id": "iCNc9o0xGMfp"
      },
      "source": [
        "## XGBoost for speedup\n",
        "\n",
        "Use the XGBoost library to fit gradient boosted trees to the problem. They are usually way quicker to learn and many times at least on par with RandomForests, or better. Let's see!"
      ]
    },
    {
      "cell_type": "code",
      "execution_count": 39,
      "metadata": {
        "ExecuteTime": {
          "end_time": "2019-05-02T15:32:05.234439Z",
          "start_time": "2019-05-02T15:32:04.248920Z"
        },
        "collapsed": true,
        "id": "RbQWiCTzGMfp"
      },
      "outputs": [],
      "source": [
        "import xgboost as xgb\n",
        "# If in trouble, use !pip install xgboost\n",
        "\n",
        "# XGBoost needs it's custom data format to run quickly\n",
        "dmatrix_train = xgb.DMatrix(data=X_train_flattened,label=y_train_rolled)\n",
        "dmatrix_valid = xgb.DMatrix(data=X_valid_flattened,label=y_valid_rolled)"
      ]
    },
    {
      "cell_type": "code",
      "execution_count": 43,
      "metadata": {
        "ExecuteTime": {
          "end_time": "2019-05-02T15:32:13.647736Z",
          "start_time": "2019-05-02T15:32:05.237071Z"
        },
        "collapsed": true,
        "id": "fpxB1FUIGMfp",
        "colab": {
          "base_uri": "https://localhost:8080/"
        },
        "outputId": "c1a8b91d-bf94-4292-9387-36656ac31989"
      },
      "outputs": [
        {
          "output_type": "stream",
          "name": "stdout",
          "text": [
            "[0]\teval-rmse:0.09434\ttrain-rmse:0.08419\n",
            "[1]\teval-rmse:0.09068\ttrain-rmse:0.07957\n",
            "[2]\teval-rmse:0.08930\ttrain-rmse:0.07627\n",
            "[3]\teval-rmse:0.08804\ttrain-rmse:0.07347\n",
            "[4]\teval-rmse:0.08829\ttrain-rmse:0.07129\n",
            "[5]\teval-rmse:0.08819\ttrain-rmse:0.06921\n",
            "[6]\teval-rmse:0.08780\ttrain-rmse:0.06807\n",
            "[7]\teval-rmse:0.08797\ttrain-rmse:0.06698\n",
            "[8]\teval-rmse:0.08802\ttrain-rmse:0.06554\n",
            "[9]\teval-rmse:0.08829\ttrain-rmse:0.06473\n",
            "[10]\teval-rmse:0.08838\ttrain-rmse:0.06378\n",
            "[11]\teval-rmse:0.08842\ttrain-rmse:0.06316\n",
            "[12]\teval-rmse:0.08843\ttrain-rmse:0.06188\n",
            "[13]\teval-rmse:0.08840\ttrain-rmse:0.06164\n",
            "[14]\teval-rmse:0.08869\ttrain-rmse:0.06107\n",
            "[15]\teval-rmse:0.08886\ttrain-rmse:0.06075\n",
            "[16]\teval-rmse:0.08892\ttrain-rmse:0.05980\n",
            "[17]\teval-rmse:0.08902\ttrain-rmse:0.05850\n",
            "[18]\teval-rmse:0.08919\ttrain-rmse:0.05817\n",
            "[19]\teval-rmse:0.08947\ttrain-rmse:0.05803\n",
            "[20]\teval-rmse:0.08948\ttrain-rmse:0.05696\n",
            "[21]\teval-rmse:0.08957\ttrain-rmse:0.05645\n",
            "[22]\teval-rmse:0.08961\ttrain-rmse:0.05562\n",
            "[23]\teval-rmse:0.08953\ttrain-rmse:0.05519\n",
            "[24]\teval-rmse:0.08973\ttrain-rmse:0.05505\n",
            "[25]\teval-rmse:0.09002\ttrain-rmse:0.05433\n",
            "[26]\teval-rmse:0.09020\ttrain-rmse:0.05356\n",
            "[27]\teval-rmse:0.09008\ttrain-rmse:0.05298\n",
            "[28]\teval-rmse:0.09028\ttrain-rmse:0.05246\n",
            "[29]\teval-rmse:0.09034\ttrain-rmse:0.05209\n",
            "[30]\teval-rmse:0.09053\ttrain-rmse:0.05190\n",
            "[31]\teval-rmse:0.09048\ttrain-rmse:0.05114\n",
            "[32]\teval-rmse:0.09051\ttrain-rmse:0.05093\n",
            "[33]\teval-rmse:0.09036\ttrain-rmse:0.05031\n",
            "[34]\teval-rmse:0.09024\ttrain-rmse:0.04947\n",
            "[35]\teval-rmse:0.09028\ttrain-rmse:0.04912\n",
            "[36]\teval-rmse:0.09053\ttrain-rmse:0.04829\n",
            "[37]\teval-rmse:0.09051\ttrain-rmse:0.04813\n",
            "[38]\teval-rmse:0.09066\ttrain-rmse:0.04784\n",
            "[39]\teval-rmse:0.09075\ttrain-rmse:0.04723\n",
            "[40]\teval-rmse:0.09072\ttrain-rmse:0.04694\n",
            "[41]\teval-rmse:0.09093\ttrain-rmse:0.04651\n",
            "[42]\teval-rmse:0.09137\ttrain-rmse:0.04595\n",
            "[43]\teval-rmse:0.09149\ttrain-rmse:0.04574\n",
            "[44]\teval-rmse:0.09078\ttrain-rmse:0.04510\n",
            "[45]\teval-rmse:0.09071\ttrain-rmse:0.04453\n",
            "[46]\teval-rmse:0.09065\ttrain-rmse:0.04358\n",
            "[47]\teval-rmse:0.09074\ttrain-rmse:0.04331\n",
            "[48]\teval-rmse:0.09078\ttrain-rmse:0.04285\n",
            "[49]\teval-rmse:0.09077\ttrain-rmse:0.04253\n",
            "[50]\teval-rmse:0.09094\ttrain-rmse:0.04226\n",
            "[51]\teval-rmse:0.09111\ttrain-rmse:0.04212\n",
            "[52]\teval-rmse:0.09119\ttrain-rmse:0.04192\n",
            "[53]\teval-rmse:0.09141\ttrain-rmse:0.04148\n",
            "[54]\teval-rmse:0.09143\ttrain-rmse:0.04122\n",
            "[55]\teval-rmse:0.09146\ttrain-rmse:0.04109\n",
            "[56]\teval-rmse:0.09159\ttrain-rmse:0.04093\n",
            "[57]\teval-rmse:0.09159\ttrain-rmse:0.04083\n",
            "[58]\teval-rmse:0.09159\ttrain-rmse:0.04068\n",
            "[59]\teval-rmse:0.09160\ttrain-rmse:0.04052\n",
            "[60]\teval-rmse:0.09157\ttrain-rmse:0.04031\n",
            "[61]\teval-rmse:0.09164\ttrain-rmse:0.04011\n",
            "[62]\teval-rmse:0.09167\ttrain-rmse:0.03967\n",
            "[63]\teval-rmse:0.09169\ttrain-rmse:0.03922\n",
            "[64]\teval-rmse:0.09170\ttrain-rmse:0.03894\n",
            "[65]\teval-rmse:0.09180\ttrain-rmse:0.03867\n",
            "[66]\teval-rmse:0.09179\ttrain-rmse:0.03841\n",
            "[67]\teval-rmse:0.09181\ttrain-rmse:0.03814\n",
            "[68]\teval-rmse:0.09190\ttrain-rmse:0.03785\n",
            "[69]\teval-rmse:0.09193\ttrain-rmse:0.03747\n",
            "[70]\teval-rmse:0.09192\ttrain-rmse:0.03742\n",
            "[71]\teval-rmse:0.09198\ttrain-rmse:0.03713\n",
            "[72]\teval-rmse:0.09200\ttrain-rmse:0.03686\n",
            "[73]\teval-rmse:0.09200\ttrain-rmse:0.03667\n",
            "[74]\teval-rmse:0.09195\ttrain-rmse:0.03619\n",
            "[75]\teval-rmse:0.09187\ttrain-rmse:0.03593\n",
            "[76]\teval-rmse:0.09192\ttrain-rmse:0.03539\n",
            "[77]\teval-rmse:0.09198\ttrain-rmse:0.03527\n",
            "[78]\teval-rmse:0.09198\ttrain-rmse:0.03522\n",
            "[79]\teval-rmse:0.09200\ttrain-rmse:0.03497\n",
            "[80]\teval-rmse:0.09217\ttrain-rmse:0.03470\n",
            "[81]\teval-rmse:0.09210\ttrain-rmse:0.03457\n",
            "[82]\teval-rmse:0.09221\ttrain-rmse:0.03435\n",
            "[83]\teval-rmse:0.09206\ttrain-rmse:0.03420\n",
            "[84]\teval-rmse:0.09205\ttrain-rmse:0.03400\n",
            "[85]\teval-rmse:0.09200\ttrain-rmse:0.03369\n",
            "[86]\teval-rmse:0.09194\ttrain-rmse:0.03341\n",
            "[87]\teval-rmse:0.09201\ttrain-rmse:0.03303\n",
            "[88]\teval-rmse:0.09202\ttrain-rmse:0.03287\n",
            "[89]\teval-rmse:0.09206\ttrain-rmse:0.03251\n",
            "[90]\teval-rmse:0.09211\ttrain-rmse:0.03241\n",
            "[91]\teval-rmse:0.09219\ttrain-rmse:0.03221\n",
            "[92]\teval-rmse:0.09238\ttrain-rmse:0.03181\n",
            "[93]\teval-rmse:0.09256\ttrain-rmse:0.03156\n",
            "[94]\teval-rmse:0.09251\ttrain-rmse:0.03150\n",
            "[95]\teval-rmse:0.09273\ttrain-rmse:0.03117\n",
            "[96]\teval-rmse:0.09282\ttrain-rmse:0.03101\n",
            "[97]\teval-rmse:0.09288\ttrain-rmse:0.03077\n",
            "[98]\teval-rmse:0.09284\ttrain-rmse:0.03060\n",
            "[99]\teval-rmse:0.09290\ttrain-rmse:0.03047\n"
          ]
        }
      ],
      "source": [
        "params = {'objective': 'reg:linear', 'eval_metric': 'rmse', 'n_estimators': 100}\n",
        "\n",
        "evallist = [(dmatrix_valid, 'eval'), (dmatrix_train, 'train')]\n",
        "\n",
        "num_round =  100 #Can easily overfit, experiment with it!\n",
        "\n",
        "# Training the model\n",
        "xg_reg = xgb.train(params, dmatrix_train, num_boost_round=num_round, evals=evallist)\n"
      ]
    },
    {
      "cell_type": "code",
      "execution_count": 46,
      "metadata": {
        "ExecuteTime": {
          "end_time": "2019-05-02T15:32:13.654770Z",
          "start_time": "2019-05-02T15:32:13.649668Z"
        },
        "collapsed": true,
        "id": "AV0ktsXUGMfp",
        "colab": {
          "base_uri": "https://localhost:8080/"
        },
        "outputId": "f74c8e3c-efa0-4f24-deb3-8f19d533b138"
      },
      "outputs": [
        {
          "output_type": "stream",
          "name": "stdout",
          "text": [
            "Root mean squared error on valid: 0.09290470983738143\n",
            "Root mean squared error on valid inverse transformed from normalization: 92.34728157835714\n"
          ]
        }
      ],
      "source": [
        "\n",
        "# Evaluate the model\n",
        "# Assuming you have some evaluation function to assess the model\n",
        "result = evaluate_model(xg_reg, dmatrix_valid, y_valid_rolled)"
      ]
    },
    {
      "cell_type": "markdown",
      "metadata": {
        "id": "GsC92dr_GMfp"
      },
      "source": [
        "# Building an LSTM model\n",
        "\n",
        "## Modeling assumptions\n",
        "\n",
        "**TASK:** We believe, that the time dependent structure of this dataset is complex, so we try to use LSTM models from Keras. We are not explicitly utilizing **statefulness**, that is a **major area to be investigated later on**.\n",
        "\n",
        "More information on statefulness can be found [here](https://philipperemy.github.io/keras-stateful-lstm/).\n",
        "\n",
        "\n",
        "Fit an LSTM model **on the time series - non-flat - data!**.\n",
        "\n",
        "Use:\n",
        "1. At least 1 LSTM layer\n",
        "2. A dense layer for output - think about activation! This is a regression case!\n",
        "\n",
        "**Very advisable** - but optional - to use Dropout. You can not use it everywhere, though... Experiment!\n",
        "\n",
        "You are allowed to use functional API, but for this **Sequential API is sufficient.**\n",
        "\n",
        "You **can use LeraningRateScheduler** if you like."
      ]
    },
    {
      "cell_type": "code",
      "execution_count": 47,
      "metadata": {
        "ExecuteTime": {
          "end_time": "2019-05-02T15:36:43.004415Z",
          "start_time": "2019-05-02T15:36:43.001752Z"
        },
        "collapsed": true,
        "id": "4RCtn-LwGMfp"
      },
      "outputs": [],
      "source": [
        "LSTM_CELL_SIZE=200\n",
        "BATCH_SIZE = 64\n",
        "EPOCHS = 8\n",
        "DROPOUT_RATE=0.1"
      ]
    },
    {
      "cell_type": "code",
      "execution_count": 48,
      "metadata": {
        "ExecuteTime": {
          "end_time": "2019-05-02T15:43:36.343431Z",
          "start_time": "2019-05-02T15:36:43.007323Z"
        },
        "collapsed": true,
        "id": "qtCg9aDoGMfp",
        "colab": {
          "base_uri": "https://localhost:8080/"
        },
        "outputId": "ddcfb401-f842-4711-e2c7-e6e42b0f5329"
      },
      "outputs": [
        {
          "output_type": "stream",
          "name": "stdout",
          "text": [
            "Epoch 1/8\n",
            "\u001b[1m546/546\u001b[0m \u001b[32m━━━━━━━━━━━━━━━━━━━━\u001b[0m\u001b[37m\u001b[0m \u001b[1m10s\u001b[0m 11ms/step - loss: 0.0223 - val_loss: 0.0097 - learning_rate: 0.0010\n",
            "Epoch 2/8\n",
            "\u001b[1m546/546\u001b[0m \u001b[32m━━━━━━━━━━━━━━━━━━━━\u001b[0m\u001b[37m\u001b[0m \u001b[1m5s\u001b[0m 8ms/step - loss: 0.0085 - val_loss: 0.0139 - learning_rate: 0.0010\n",
            "Epoch 3/8\n",
            "\u001b[1m546/546\u001b[0m \u001b[32m━━━━━━━━━━━━━━━━━━━━\u001b[0m\u001b[37m\u001b[0m \u001b[1m4s\u001b[0m 8ms/step - loss: 0.0080 - val_loss: 0.0140 - learning_rate: 0.0010\n",
            "Epoch 4/8\n",
            "\u001b[1m546/546\u001b[0m \u001b[32m━━━━━━━━━━━━━━━━━━━━\u001b[0m\u001b[37m\u001b[0m \u001b[1m5s\u001b[0m 9ms/step - loss: 0.0075 - val_loss: 0.0080 - learning_rate: 3.0000e-04\n",
            "Epoch 5/8\n",
            "\u001b[1m546/546\u001b[0m \u001b[32m━━━━━━━━━━━━━━━━━━━━\u001b[0m\u001b[37m\u001b[0m \u001b[1m4s\u001b[0m 8ms/step - loss: 0.0072 - val_loss: 0.0072 - learning_rate: 9.0000e-05\n",
            "Epoch 6/8\n",
            "\u001b[1m546/546\u001b[0m \u001b[32m━━━━━━━━━━━━━━━━━━━━\u001b[0m\u001b[37m\u001b[0m \u001b[1m5s\u001b[0m 8ms/step - loss: 0.0071 - val_loss: 0.0072 - learning_rate: 2.7000e-05\n",
            "Epoch 7/8\n",
            "\u001b[1m546/546\u001b[0m \u001b[32m━━━━━━━━━━━━━━━━━━━━\u001b[0m\u001b[37m\u001b[0m \u001b[1m5s\u001b[0m 9ms/step - loss: 0.0069 - val_loss: 0.0072 - learning_rate: 8.1000e-06\n",
            "Epoch 8/8\n",
            "\u001b[1m546/546\u001b[0m \u001b[32m━━━━━━━━━━━━━━━━━━━━\u001b[0m\u001b[37m\u001b[0m \u001b[1m5s\u001b[0m 8ms/step - loss: 0.0068 - val_loss: 0.0072 - learning_rate: 2.4300e-06\n"
          ]
        }
      ],
      "source": [
        "from tensorflow.keras import Sequential\n",
        "from tensorflow.keras.layers import Dense, Dropout, LSTM\n",
        "from tensorflow.keras import backend as be\n",
        "from tensorflow.keras.callbacks import ModelCheckpoint, LearningRateScheduler\n",
        "\n",
        "column_count=len(X_train_norm.columns) #Remember,column count before rolling...\n",
        "\n",
        "be.clear_session()\n",
        "\n",
        "# You might very well be needing it!\n",
        "# Remeber to save only what is worth it from validation perspective...\n",
        "# model_saver = ModelCheckpoint(...)\n",
        "model_saver = ModelCheckpoint('best_model.keras', save_best_only=True, monitor='val_loss', mode='min')\n",
        "\n",
        "# If you need it...\n",
        "#def schedule(epoch, lr):\n",
        "#    ...\n",
        "#    return lr\n",
        "def schedule(epoch, lr):\n",
        "    if epoch > 2:\n",
        "        lr = lr * 0.3\n",
        "    return lr\n",
        "#lr_scheduler = LearningRateScheduler(schedule)\n",
        "lr_scheduler = LearningRateScheduler(schedule)\n",
        "# Build your whole LSTM model here!\n",
        "model = Sequential()\n",
        "model.add(LSTM(LSTM_CELL_SIZE, input_shape=(20, column_count), return_sequences=False))\n",
        "model.add(Dropout(DROPOUT_RATE))\n",
        "model.add(Dense(1, activation='linear'))\n",
        "\n",
        "#For shape remeber, we have a variable defining the \"window\" and the features in the window...\n",
        "\n",
        "model.compile(loss='mean_squared_error', optimizer='adam')\n",
        "# Fit on the train data\n",
        "# USE the batch size parameter!\n",
        "# Use validation data - warning, a tuple of stuff!\n",
        "# Epochs as deemed necessary...\n",
        "# You should avoid shuffling the data maybe.\n",
        "# You can use the callbacks for LR schedule or model saving as seems fit.\n",
        "history = model.fit(\n",
        "    X_train_rolled, y_train_rolled,\n",
        "    epochs=EPOCHS,\n",
        "    batch_size=BATCH_SIZE,\n",
        "    validation_data=(X_valid_rolled, y_valid_rolled),\n",
        "    callbacks=[model_saver, lr_scheduler],\n",
        "    shuffle=False\n",
        ")"
      ]
    },
    {
      "cell_type": "code",
      "execution_count": 49,
      "metadata": {
        "ExecuteTime": {
          "end_time": "2019-05-02T15:43:36.500553Z",
          "start_time": "2019-05-02T15:43:36.347851Z"
        },
        "collapsed": true,
        "id": "v0So3ltkGMfp",
        "colab": {
          "base_uri": "https://localhost:8080/",
          "height": 430
        },
        "outputId": "1c156c82-e93b-40f2-c0b5-63485bf81905"
      },
      "outputs": [
        {
          "output_type": "display_data",
          "data": {
            "text/plain": [
              "<Figure size 640x480 with 1 Axes>"
            ],
            "image/png": "[encoded data removed]"
          },
          "metadata": {}
        }
      ],
      "source": [
        "plt.plot(history.history['loss'], label='train')\n",
        "plt.plot(history.history['val_loss'], label='test')\n",
        "plt.legend()\n",
        "plt.show()"
      ]
    },
    {
      "cell_type": "code",
      "execution_count": 51,
      "metadata": {
        "ExecuteTime": {
          "end_time": "2019-05-02T15:43:44.053319Z",
          "start_time": "2019-05-02T15:43:36.503640Z"
        },
        "collapsed": true,
        "id": "hNvZ5LwMGMfp",
        "colab": {
          "base_uri": "https://localhost:8080/"
        },
        "outputId": "296eb885-6191-459b-bb4a-a258ea65cc1c"
      },
      "outputs": [
        {
          "output_type": "stream",
          "name": "stdout",
          "text": [
            "\u001b[1m134/134\u001b[0m \u001b[32m━━━━━━━━━━━━━━━━━━━━\u001b[0m\u001b[37m\u001b[0m \u001b[1m1s\u001b[0m 7ms/step\n",
            "Root mean squared error on valid: 0.08492124514145478\n",
            "Root mean squared error on valid inverse transformed from normalization: 84.41171767060605\n"
          ]
        }
      ],
      "source": [
        "# You can use the early stopped model OR load it.\n",
        "# For that you have to import the load function...\n",
        "# IF AND ONLY IF loading, it is good practice to throw out the trash from the graph...\n",
        "# be.clear_session()\n",
        "from tensorflow.keras.models import load_model\n",
        "be.clear_session()\n",
        "best_model = load_model('best_model.keras')\n",
        "\n",
        "result = evaluate_model(best_model, X_valid_rolled, y_valid_rolled)"
      ]
    },
    {
      "cell_type": "code",
      "execution_count": 52,
      "metadata": {
        "ExecuteTime": {
          "end_time": "2019-05-02T15:43:44.057870Z",
          "start_time": "2019-05-02T15:43:44.055366Z"
        },
        "collapsed": true,
        "id": "u9YUMCq-GMfp"
      },
      "outputs": [],
      "source": [
        "assert result < 86.0"
      ]
    },
    {
      "cell_type": "markdown",
      "metadata": {
        "id": "RfFQcFOLGMfp"
      },
      "source": [
        "# Things that should be improved\n",
        "\n",
        "- More conclusive investigation of PACF for better time window estimate\n",
        "    - It can well be, that long windows do not add that much to the performance\n",
        "- More interesting features for XGBoost (like from [tsfresh](https://tsfresh.readthedocs.io/en/latest/)), since present features are a disaster\n",
        "- MOST IMPORTANT: **More thorough error / prediction analysis!!!**\n",
        "- LSTM with **Custom iterator with stateful model**\n",
        "- Investigation of different loss function (eg. MAE) for training. (And with it, think abut the importance of extreme values: do we think they are outliers? Are they interesing to predict?)\n",
        "- Investigation of \"teacher forcing\" for LSTM-s in Keras (if it makes sense)\n",
        "\n",
        "# Conclusion\n",
        "\n",
        "Even with decent amount of struggle, the \"dummy\" of always using the mean is very appealing, so it seems, this is not that easy of a task 24 hours in advance. Further investigation of classical as well as neural models remains open!\n"
      ]
    },
    {
      "cell_type": "markdown",
      "metadata": {
        "id": "HS7He7suGMfp"
      },
      "source": [
        "# Final test\n",
        "\n",
        "We did not use the final test, since our investigations are not concluded yet. Remember: using it once before project \"go live\" is a good practice!"
      ]
    }
  ],
  "metadata": {
    "kernelspec": {
      "display_name": "Python 3",
      "name": "python3"
    },
    "language_info": {
      "codemirror_mode": {
        "name": "ipython",
        "version": 3
      },
      "file_extension": ".py",
      "mimetype": "text/x-python",
      "name": "python",
      "nbconvert_exporter": "python",
      "pygments_lexer": "ipython3",
      "version": "3.8.12"
    },
    "toc": {
      "base_numbering": 1,
      "nav_menu": {},
      "number_sections": true,
      "sideBar": true,
      "skip_h1_title": false,
      "title_cell": "Table of Contents",
      "title_sidebar": "Contents",
      "toc_cell": false,
      "toc_position": {},
      "toc_section_display": true,
      "toc_window_display": false
    },
    "varInspector": {
      "cols": {
        "lenName": 16,
        "lenType": 16,
        "lenVar": 40
      },
      "kernels_config": {
        "python": {
          "delete_cmd_postfix": "",
          "delete_cmd_prefix": "del ",
          "library": "var_list.py",
          "varRefreshCmd": "print(var_dic_list())"
        },
        "r": {
          "delete_cmd_postfix": ") ",
          "delete_cmd_prefix": "rm(",
          "library": "var_list.r",
          "varRefreshCmd": "cat(var_dic_list()) "
        }
      },
      "types_to_exclude": [
        "module",
        "function",
        "builtin_function_or_method",
        "instance",
        "_Feature"
      ],
      "window_display": false
    },
    "colab": {
      "provenance": [],
      "gpuType": "T4",
      "include_colab_link": true
    },
    "accelerator": "GPU"
  },
  "nbformat": 4,
  "nbformat_minor": 0
}